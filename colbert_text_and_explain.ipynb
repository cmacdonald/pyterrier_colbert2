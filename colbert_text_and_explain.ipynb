{
  "nbformat": 4,
  "nbformat_minor": 0,
  "metadata": {
    "colab": {
      "name": "colbert-text-and-explain.ipynb",
      "provenance": [],
      "collapsed_sections": []
    },
    "kernelspec": {
      "name": "python3",
      "display_name": "Python 3"
    },
    "accelerator": "GPU"
  },
  "cells": [
    {
      "cell_type": "markdown",
      "metadata": {
        "id": "poqzBNP0ddGl"
      },
      "source": [
        "#PyTerrier Text Scoring Explanation\n",
        "\n",
        "This notebook demonstrates the use of an interaction diagram for PyTerrier_ColBERT."
      ]
    },
    {
      "cell_type": "markdown",
      "metadata": {
        "id": "KJQC5H9mdm01"
      },
      "source": [
        "## Setup"
      ]
    },
    {
      "cell_type": "code",
      "metadata": {
        "colab": {
          "base_uri": "https://localhost:8080/"
        },
        "id": "_xjEAH_fsH0D",
        "outputId": "19bfc207-2c9e-4c40-acf6-0fa4f8d84b12"
      },
      "source": [
        "!pip install python-terrier\n",
        "!pip install --upgrade git+https://github.com/terrierteam/pyterrier_colbert.git\n"
      ],
      "execution_count": 1,
      "outputs": [
        {
          "output_type": "stream",
          "text": [
            "Requirement already satisfied: python-terrier in /usr/local/lib/python3.7/dist-packages (0.4.0)\n",
            "Requirement already satisfied: deprecation in /usr/local/lib/python3.7/dist-packages (from python-terrier) (2.1.0)\n",
            "Requirement already satisfied: ir-datasets>=0.2.0 in /usr/local/lib/python3.7/dist-packages (from python-terrier) (0.3.3)\n",
            "Requirement already satisfied: sphinx-rtd-theme in /usr/local/lib/python3.7/dist-packages (from python-terrier) (0.5.1)\n",
            "Requirement already satisfied: sklearn in /usr/local/lib/python3.7/dist-packages (from python-terrier) (0.0)\n",
            "Requirement already satisfied: numpy in /usr/local/lib/python3.7/dist-packages (from python-terrier) (1.19.5)\n",
            "Requirement already satisfied: tqdm in /usr/local/lib/python3.7/dist-packages (from python-terrier) (4.41.1)\n",
            "Requirement already satisfied: nptyping in /usr/local/lib/python3.7/dist-packages (from python-terrier) (1.4.1)\n",
            "Requirement already satisfied: tabulate in /usr/local/lib/python3.7/dist-packages (from python-terrier) (0.8.9)\n",
            "Requirement already satisfied: matchpy in /usr/local/lib/python3.7/dist-packages (from python-terrier) (0.5.4)\n",
            "Requirement already satisfied: scipy in /usr/local/lib/python3.7/dist-packages (from python-terrier) (1.4.1)\n",
            "Requirement already satisfied: myst-parser in /usr/local/lib/python3.7/dist-packages (from python-terrier) (0.13.5)\n",
            "Requirement already satisfied: pyjnius~=1.3.0 in /usr/local/lib/python3.7/dist-packages (from python-terrier) (1.3.0)\n",
            "Requirement already satisfied: jinja2 in /usr/local/lib/python3.7/dist-packages (from python-terrier) (2.11.3)\n",
            "Requirement already satisfied: chest in /usr/local/lib/python3.7/dist-packages (from python-terrier) (0.2.3)\n",
            "Requirement already satisfied: pandas in /usr/local/lib/python3.7/dist-packages (from python-terrier) (1.1.5)\n",
            "Requirement already satisfied: more-itertools in /usr/local/lib/python3.7/dist-packages (from python-terrier) (8.7.0)\n",
            "Requirement already satisfied: pytrec-eval>=0.5 in /usr/local/lib/python3.7/dist-packages (from python-terrier) (0.5)\n",
            "Requirement already satisfied: wget in /usr/local/lib/python3.7/dist-packages (from python-terrier) (3.2)\n",
            "Requirement already satisfied: requests in /usr/local/lib/python3.7/dist-packages (from python-terrier) (2.23.0)\n",
            "Requirement already satisfied: packaging in /usr/local/lib/python3.7/dist-packages (from deprecation->python-terrier) (20.9)\n",
            "Requirement already satisfied: warc3-wet-clueweb09>=0.2.5 in /usr/local/lib/python3.7/dist-packages (from ir-datasets>=0.2.0->python-terrier) (0.2.5)\n",
            "Requirement already satisfied: pyyaml>=5.3.1 in /usr/local/lib/python3.7/dist-packages (from ir-datasets>=0.2.0->python-terrier) (5.4.1)\n",
            "Requirement already satisfied: zlib-state>=0.1.3 in /usr/local/lib/python3.7/dist-packages (from ir-datasets>=0.2.0->python-terrier) (0.1.3)\n",
            "Requirement already satisfied: lz4>=3.1.1 in /usr/local/lib/python3.7/dist-packages (from ir-datasets>=0.2.0->python-terrier) (3.1.3)\n",
            "Requirement already satisfied: beautifulsoup4>=4.4.1 in /usr/local/lib/python3.7/dist-packages (from ir-datasets>=0.2.0->python-terrier) (4.6.3)\n",
            "Requirement already satisfied: trec-car-tools>=2.5.4 in /usr/local/lib/python3.7/dist-packages (from ir-datasets>=0.2.0->python-terrier) (2.5.4)\n",
            "Requirement already satisfied: warc3-wet>=0.2.3 in /usr/local/lib/python3.7/dist-packages (from ir-datasets>=0.2.0->python-terrier) (0.2.3)\n",
            "Requirement already satisfied: ijson>=3.1.3 in /usr/local/lib/python3.7/dist-packages (from ir-datasets>=0.2.0->python-terrier) (3.1.4)\n",
            "Requirement already satisfied: lxml>=4.5.2 in /usr/local/lib/python3.7/dist-packages (from ir-datasets>=0.2.0->python-terrier) (4.6.3)\n",
            "Requirement already satisfied: sphinx in /usr/local/lib/python3.7/dist-packages (from sphinx-rtd-theme->python-terrier) (3.5.3)\n",
            "Requirement already satisfied: scikit-learn in /usr/local/lib/python3.7/dist-packages (from sklearn->python-terrier) (0.22.2.post1)\n",
            "Requirement already satisfied: typish>=1.7.0 in /usr/local/lib/python3.7/dist-packages (from nptyping->python-terrier) (1.9.1)\n",
            "Requirement already satisfied: multiset<3.0,>=2.0 in /usr/local/lib/python3.7/dist-packages (from matchpy->python-terrier) (2.1.1)\n",
            "Requirement already satisfied: docutils>=0.15 in /usr/local/lib/python3.7/dist-packages (from myst-parser->python-terrier) (0.16)\n",
            "Requirement already satisfied: markdown-it-py~=0.6.2 in /usr/local/lib/python3.7/dist-packages (from myst-parser->python-terrier) (0.6.2)\n",
            "Requirement already satisfied: mdit-py-plugins~=0.2.5 in /usr/local/lib/python3.7/dist-packages (from myst-parser->python-terrier) (0.2.6)\n",
            "Requirement already satisfied: six>=1.7.0 in /usr/local/lib/python3.7/dist-packages (from pyjnius~=1.3.0->python-terrier) (1.15.0)\n",
            "Requirement already satisfied: cython in /usr/local/lib/python3.7/dist-packages (from pyjnius~=1.3.0->python-terrier) (0.29.22)\n",
            "Requirement already satisfied: MarkupSafe>=0.23 in /usr/local/lib/python3.7/dist-packages (from jinja2->python-terrier) (1.1.1)\n",
            "Requirement already satisfied: heapdict in /usr/local/lib/python3.7/dist-packages (from chest->python-terrier) (1.0.1)\n",
            "Requirement already satisfied: pytz>=2017.2 in /usr/local/lib/python3.7/dist-packages (from pandas->python-terrier) (2018.9)\n",
            "Requirement already satisfied: python-dateutil>=2.7.3 in /usr/local/lib/python3.7/dist-packages (from pandas->python-terrier) (2.8.1)\n",
            "Requirement already satisfied: chardet<4,>=3.0.2 in /usr/local/lib/python3.7/dist-packages (from requests->python-terrier) (3.0.4)\n",
            "Requirement already satisfied: certifi>=2017.4.17 in /usr/local/lib/python3.7/dist-packages (from requests->python-terrier) (2020.12.5)\n",
            "Requirement already satisfied: idna<3,>=2.5 in /usr/local/lib/python3.7/dist-packages (from requests->python-terrier) (2.10)\n",
            "Requirement already satisfied: urllib3!=1.25.0,!=1.25.1,<1.26,>=1.21.1 in /usr/local/lib/python3.7/dist-packages (from requests->python-terrier) (1.24.3)\n",
            "Requirement already satisfied: pyparsing>=2.0.2 in /usr/local/lib/python3.7/dist-packages (from packaging->deprecation->python-terrier) (2.4.7)\n",
            "Requirement already satisfied: cbor>=1.0.0 in /usr/local/lib/python3.7/dist-packages (from trec-car-tools>=2.5.4->ir-datasets>=0.2.0->python-terrier) (1.0.0)\n",
            "Requirement already satisfied: snowballstemmer>=1.1 in /usr/local/lib/python3.7/dist-packages (from sphinx->sphinx-rtd-theme->python-terrier) (2.1.0)\n",
            "Requirement already satisfied: sphinxcontrib-devhelp in /usr/local/lib/python3.7/dist-packages (from sphinx->sphinx-rtd-theme->python-terrier) (1.0.2)\n",
            "Requirement already satisfied: sphinxcontrib-serializinghtml in /usr/local/lib/python3.7/dist-packages (from sphinx->sphinx-rtd-theme->python-terrier) (1.1.4)\n",
            "Requirement already satisfied: sphinxcontrib-htmlhelp in /usr/local/lib/python3.7/dist-packages (from sphinx->sphinx-rtd-theme->python-terrier) (1.0.3)\n",
            "Requirement already satisfied: alabaster<0.8,>=0.7 in /usr/local/lib/python3.7/dist-packages (from sphinx->sphinx-rtd-theme->python-terrier) (0.7.12)\n",
            "Requirement already satisfied: Pygments>=2.0 in /usr/local/lib/python3.7/dist-packages (from sphinx->sphinx-rtd-theme->python-terrier) (2.6.1)\n",
            "Requirement already satisfied: imagesize in /usr/local/lib/python3.7/dist-packages (from sphinx->sphinx-rtd-theme->python-terrier) (1.2.0)\n",
            "Requirement already satisfied: babel>=1.3 in /usr/local/lib/python3.7/dist-packages (from sphinx->sphinx-rtd-theme->python-terrier) (2.9.0)\n",
            "Requirement already satisfied: sphinxcontrib-qthelp in /usr/local/lib/python3.7/dist-packages (from sphinx->sphinx-rtd-theme->python-terrier) (1.0.3)\n",
            "Requirement already satisfied: sphinxcontrib-applehelp in /usr/local/lib/python3.7/dist-packages (from sphinx->sphinx-rtd-theme->python-terrier) (1.0.2)\n",
            "Requirement already satisfied: setuptools in /usr/local/lib/python3.7/dist-packages (from sphinx->sphinx-rtd-theme->python-terrier) (54.1.2)\n",
            "Requirement already satisfied: sphinxcontrib-jsmath in /usr/local/lib/python3.7/dist-packages (from sphinx->sphinx-rtd-theme->python-terrier) (1.0.1)\n",
            "Requirement already satisfied: joblib>=0.11 in /usr/local/lib/python3.7/dist-packages (from scikit-learn->sklearn->python-terrier) (1.0.1)\n",
            "Requirement already satisfied: attrs<21,>=19 in /usr/local/lib/python3.7/dist-packages (from markdown-it-py~=0.6.2->myst-parser->python-terrier) (20.3.0)\n",
            "Collecting git+https://github.com/terrierteam/pyterrier_colbert.git\n",
            "  Cloning https://github.com/terrierteam/pyterrier_colbert.git to /tmp/pip-req-build-6ayzu4pc\n",
            "  Running command git clone -q https://github.com/terrierteam/pyterrier_colbert.git /tmp/pip-req-build-6ayzu4pc\n",
            "Requirement already satisfied, skipping upgrade: python-terrier in /usr/local/lib/python3.7/dist-packages (from pyterrier-colbert==0.0.1) (0.4.0)\n",
            "Requirement already satisfied, skipping upgrade: pandas in /usr/local/lib/python3.7/dist-packages (from pyterrier-colbert==0.0.1) (1.1.5)\n",
            "Requirement already satisfied, skipping upgrade: ColBERT@ git+https://github.com/cmacdonald/ColBERT.git@v0.2#egg=ColBERT from git+https://github.com/cmacdonald/ColBERT.git@v0.2#egg=ColBERT in /usr/local/lib/python3.7/dist-packages (from pyterrier-colbert==0.0.1) (0.2.0)\n",
            "Requirement already satisfied, skipping upgrade: tqdm in /usr/local/lib/python3.7/dist-packages (from python-terrier->pyterrier-colbert==0.0.1) (4.41.1)\n",
            "Requirement already satisfied, skipping upgrade: matchpy in /usr/local/lib/python3.7/dist-packages (from python-terrier->pyterrier-colbert==0.0.1) (0.5.4)\n",
            "Requirement already satisfied, skipping upgrade: requests in /usr/local/lib/python3.7/dist-packages (from python-terrier->pyterrier-colbert==0.0.1) (2.23.0)\n",
            "Requirement already satisfied, skipping upgrade: pyjnius~=1.3.0 in /usr/local/lib/python3.7/dist-packages (from python-terrier->pyterrier-colbert==0.0.1) (1.3.0)\n",
            "Requirement already satisfied, skipping upgrade: ir-datasets>=0.2.0 in /usr/local/lib/python3.7/dist-packages (from python-terrier->pyterrier-colbert==0.0.1) (0.3.3)\n",
            "Requirement already satisfied, skipping upgrade: myst-parser in /usr/local/lib/python3.7/dist-packages (from python-terrier->pyterrier-colbert==0.0.1) (0.13.5)\n",
            "Requirement already satisfied, skipping upgrade: more-itertools in /usr/local/lib/python3.7/dist-packages (from python-terrier->pyterrier-colbert==0.0.1) (8.7.0)\n",
            "Requirement already satisfied, skipping upgrade: sphinx-rtd-theme in /usr/local/lib/python3.7/dist-packages (from python-terrier->pyterrier-colbert==0.0.1) (0.5.1)\n",
            "Requirement already satisfied, skipping upgrade: nptyping in /usr/local/lib/python3.7/dist-packages (from python-terrier->pyterrier-colbert==0.0.1) (1.4.1)\n",
            "Requirement already satisfied, skipping upgrade: tabulate in /usr/local/lib/python3.7/dist-packages (from python-terrier->pyterrier-colbert==0.0.1) (0.8.9)\n",
            "Requirement already satisfied, skipping upgrade: wget in /usr/local/lib/python3.7/dist-packages (from python-terrier->pyterrier-colbert==0.0.1) (3.2)\n",
            "Requirement already satisfied, skipping upgrade: scipy in /usr/local/lib/python3.7/dist-packages (from python-terrier->pyterrier-colbert==0.0.1) (1.4.1)\n",
            "Requirement already satisfied, skipping upgrade: chest in /usr/local/lib/python3.7/dist-packages (from python-terrier->pyterrier-colbert==0.0.1) (0.2.3)\n",
            "Requirement already satisfied, skipping upgrade: jinja2 in /usr/local/lib/python3.7/dist-packages (from python-terrier->pyterrier-colbert==0.0.1) (2.11.3)\n",
            "Requirement already satisfied, skipping upgrade: pytrec-eval>=0.5 in /usr/local/lib/python3.7/dist-packages (from python-terrier->pyterrier-colbert==0.0.1) (0.5)\n",
            "Requirement already satisfied, skipping upgrade: numpy in /usr/local/lib/python3.7/dist-packages (from python-terrier->pyterrier-colbert==0.0.1) (1.19.5)\n",
            "Requirement already satisfied, skipping upgrade: sklearn in /usr/local/lib/python3.7/dist-packages (from python-terrier->pyterrier-colbert==0.0.1) (0.0)\n",
            "Requirement already satisfied, skipping upgrade: deprecation in /usr/local/lib/python3.7/dist-packages (from python-terrier->pyterrier-colbert==0.0.1) (2.1.0)\n",
            "Requirement already satisfied, skipping upgrade: pytz>=2017.2 in /usr/local/lib/python3.7/dist-packages (from pandas->pyterrier-colbert==0.0.1) (2018.9)\n",
            "Requirement already satisfied, skipping upgrade: python-dateutil>=2.7.3 in /usr/local/lib/python3.7/dist-packages (from pandas->pyterrier-colbert==0.0.1) (2.8.1)\n",
            "Requirement already satisfied, skipping upgrade: mlflow in /usr/local/lib/python3.7/dist-packages (from ColBERT@ git+https://github.com/cmacdonald/ColBERT.git@v0.2#egg=ColBERT->pyterrier-colbert==0.0.1) (1.14.1)\n",
            "Requirement already satisfied, skipping upgrade: ujson in /usr/local/lib/python3.7/dist-packages (from ColBERT@ git+https://github.com/cmacdonald/ColBERT.git@v0.2#egg=ColBERT->pyterrier-colbert==0.0.1) (4.0.2)\n",
            "Requirement already satisfied, skipping upgrade: tensorboard in /usr/local/lib/python3.7/dist-packages (from ColBERT@ git+https://github.com/cmacdonald/ColBERT.git@v0.2#egg=ColBERT->pyterrier-colbert==0.0.1) (2.4.1)\n",
            "Requirement already satisfied, skipping upgrade: transformers==3.0.2 in /usr/local/lib/python3.7/dist-packages (from ColBERT@ git+https://github.com/cmacdonald/ColBERT.git@v0.2#egg=ColBERT->pyterrier-colbert==0.0.1) (3.0.2)\n",
            "Requirement already satisfied, skipping upgrade: torch in /usr/local/lib/python3.7/dist-packages (from ColBERT@ git+https://github.com/cmacdonald/ColBERT.git@v0.2#egg=ColBERT->pyterrier-colbert==0.0.1) (1.8.0+cu101)\n",
            "Requirement already satisfied, skipping upgrade: multiset<3.0,>=2.0 in /usr/local/lib/python3.7/dist-packages (from matchpy->python-terrier->pyterrier-colbert==0.0.1) (2.1.1)\n",
            "Requirement already satisfied, skipping upgrade: urllib3!=1.25.0,!=1.25.1,<1.26,>=1.21.1 in /usr/local/lib/python3.7/dist-packages (from requests->python-terrier->pyterrier-colbert==0.0.1) (1.24.3)\n",
            "Requirement already satisfied, skipping upgrade: chardet<4,>=3.0.2 in /usr/local/lib/python3.7/dist-packages (from requests->python-terrier->pyterrier-colbert==0.0.1) (3.0.4)\n",
            "Requirement already satisfied, skipping upgrade: idna<3,>=2.5 in /usr/local/lib/python3.7/dist-packages (from requests->python-terrier->pyterrier-colbert==0.0.1) (2.10)\n",
            "Requirement already satisfied, skipping upgrade: certifi>=2017.4.17 in /usr/local/lib/python3.7/dist-packages (from requests->python-terrier->pyterrier-colbert==0.0.1) (2020.12.5)\n",
            "Requirement already satisfied, skipping upgrade: cython in /usr/local/lib/python3.7/dist-packages (from pyjnius~=1.3.0->python-terrier->pyterrier-colbert==0.0.1) (0.29.22)\n",
            "Requirement already satisfied, skipping upgrade: six>=1.7.0 in /usr/local/lib/python3.7/dist-packages (from pyjnius~=1.3.0->python-terrier->pyterrier-colbert==0.0.1) (1.15.0)\n",
            "Requirement already satisfied, skipping upgrade: beautifulsoup4>=4.4.1 in /usr/local/lib/python3.7/dist-packages (from ir-datasets>=0.2.0->python-terrier->pyterrier-colbert==0.0.1) (4.6.3)\n",
            "Requirement already satisfied, skipping upgrade: lxml>=4.5.2 in /usr/local/lib/python3.7/dist-packages (from ir-datasets>=0.2.0->python-terrier->pyterrier-colbert==0.0.1) (4.6.3)\n",
            "Requirement already satisfied, skipping upgrade: zlib-state>=0.1.3 in /usr/local/lib/python3.7/dist-packages (from ir-datasets>=0.2.0->python-terrier->pyterrier-colbert==0.0.1) (0.1.3)\n",
            "Requirement already satisfied, skipping upgrade: trec-car-tools>=2.5.4 in /usr/local/lib/python3.7/dist-packages (from ir-datasets>=0.2.0->python-terrier->pyterrier-colbert==0.0.1) (2.5.4)\n",
            "Requirement already satisfied, skipping upgrade: pyyaml>=5.3.1 in /usr/local/lib/python3.7/dist-packages (from ir-datasets>=0.2.0->python-terrier->pyterrier-colbert==0.0.1) (5.4.1)\n",
            "Requirement already satisfied, skipping upgrade: ijson>=3.1.3 in /usr/local/lib/python3.7/dist-packages (from ir-datasets>=0.2.0->python-terrier->pyterrier-colbert==0.0.1) (3.1.4)\n",
            "Requirement already satisfied, skipping upgrade: warc3-wet-clueweb09>=0.2.5 in /usr/local/lib/python3.7/dist-packages (from ir-datasets>=0.2.0->python-terrier->pyterrier-colbert==0.0.1) (0.2.5)\n",
            "Requirement already satisfied, skipping upgrade: warc3-wet>=0.2.3 in /usr/local/lib/python3.7/dist-packages (from ir-datasets>=0.2.0->python-terrier->pyterrier-colbert==0.0.1) (0.2.3)\n",
            "Requirement already satisfied, skipping upgrade: lz4>=3.1.1 in /usr/local/lib/python3.7/dist-packages (from ir-datasets>=0.2.0->python-terrier->pyterrier-colbert==0.0.1) (3.1.3)\n",
            "Requirement already satisfied, skipping upgrade: docutils>=0.15 in /usr/local/lib/python3.7/dist-packages (from myst-parser->python-terrier->pyterrier-colbert==0.0.1) (0.16)\n",
            "Requirement already satisfied, skipping upgrade: sphinx<4,>=2 in /usr/local/lib/python3.7/dist-packages (from myst-parser->python-terrier->pyterrier-colbert==0.0.1) (3.5.3)\n",
            "Requirement already satisfied, skipping upgrade: markdown-it-py~=0.6.2 in /usr/local/lib/python3.7/dist-packages (from myst-parser->python-terrier->pyterrier-colbert==0.0.1) (0.6.2)\n",
            "Requirement already satisfied, skipping upgrade: mdit-py-plugins~=0.2.5 in /usr/local/lib/python3.7/dist-packages (from myst-parser->python-terrier->pyterrier-colbert==0.0.1) (0.2.6)\n",
            "Requirement already satisfied, skipping upgrade: typish>=1.7.0 in /usr/local/lib/python3.7/dist-packages (from nptyping->python-terrier->pyterrier-colbert==0.0.1) (1.9.1)\n",
            "Requirement already satisfied, skipping upgrade: heapdict in /usr/local/lib/python3.7/dist-packages (from chest->python-terrier->pyterrier-colbert==0.0.1) (1.0.1)\n",
            "Requirement already satisfied, skipping upgrade: MarkupSafe>=0.23 in /usr/local/lib/python3.7/dist-packages (from jinja2->python-terrier->pyterrier-colbert==0.0.1) (1.1.1)\n",
            "Requirement already satisfied, skipping upgrade: scikit-learn in /usr/local/lib/python3.7/dist-packages (from sklearn->python-terrier->pyterrier-colbert==0.0.1) (0.22.2.post1)\n",
            "Requirement already satisfied, skipping upgrade: packaging in /usr/local/lib/python3.7/dist-packages (from deprecation->python-terrier->pyterrier-colbert==0.0.1) (20.9)\n",
            "Requirement already satisfied, skipping upgrade: databricks-cli>=0.8.7 in /usr/local/lib/python3.7/dist-packages (from mlflow->ColBERT@ git+https://github.com/cmacdonald/ColBERT.git@v0.2#egg=ColBERT->pyterrier-colbert==0.0.1) (0.14.3)\n",
            "Requirement already satisfied, skipping upgrade: sqlparse>=0.3.1 in /usr/local/lib/python3.7/dist-packages (from mlflow->ColBERT@ git+https://github.com/cmacdonald/ColBERT.git@v0.2#egg=ColBERT->pyterrier-colbert==0.0.1) (0.4.1)\n",
            "Requirement already satisfied, skipping upgrade: entrypoints in /usr/local/lib/python3.7/dist-packages (from mlflow->ColBERT@ git+https://github.com/cmacdonald/ColBERT.git@v0.2#egg=ColBERT->pyterrier-colbert==0.0.1) (0.3)\n",
            "Requirement already satisfied, skipping upgrade: gitpython>=2.1.0 in /usr/local/lib/python3.7/dist-packages (from mlflow->ColBERT@ git+https://github.com/cmacdonald/ColBERT.git@v0.2#egg=ColBERT->pyterrier-colbert==0.0.1) (3.1.14)\n",
            "Requirement already satisfied, skipping upgrade: sqlalchemy in /usr/local/lib/python3.7/dist-packages (from mlflow->ColBERT@ git+https://github.com/cmacdonald/ColBERT.git@v0.2#egg=ColBERT->pyterrier-colbert==0.0.1) (1.3.23)\n",
            "Requirement already satisfied, skipping upgrade: querystring-parser in /usr/local/lib/python3.7/dist-packages (from mlflow->ColBERT@ git+https://github.com/cmacdonald/ColBERT.git@v0.2#egg=ColBERT->pyterrier-colbert==0.0.1) (1.2.4)\n",
            "Requirement already satisfied, skipping upgrade: gunicorn; platform_system != \"Windows\" in /usr/local/lib/python3.7/dist-packages (from mlflow->ColBERT@ git+https://github.com/cmacdonald/ColBERT.git@v0.2#egg=ColBERT->pyterrier-colbert==0.0.1) (20.0.4)\n",
            "Requirement already satisfied, skipping upgrade: docker>=4.0.0 in /usr/local/lib/python3.7/dist-packages (from mlflow->ColBERT@ git+https://github.com/cmacdonald/ColBERT.git@v0.2#egg=ColBERT->pyterrier-colbert==0.0.1) (4.4.4)\n",
            "Requirement already satisfied, skipping upgrade: protobuf>=3.6.0 in /usr/local/lib/python3.7/dist-packages (from mlflow->ColBERT@ git+https://github.com/cmacdonald/ColBERT.git@v0.2#egg=ColBERT->pyterrier-colbert==0.0.1) (3.12.4)\n",
            "Requirement already satisfied, skipping upgrade: click>=7.0 in /usr/local/lib/python3.7/dist-packages (from mlflow->ColBERT@ git+https://github.com/cmacdonald/ColBERT.git@v0.2#egg=ColBERT->pyterrier-colbert==0.0.1) (7.1.2)\n",
            "Requirement already satisfied, skipping upgrade: alembic<=1.4.1 in /usr/local/lib/python3.7/dist-packages (from mlflow->ColBERT@ git+https://github.com/cmacdonald/ColBERT.git@v0.2#egg=ColBERT->pyterrier-colbert==0.0.1) (1.4.1)\n",
            "Requirement already satisfied, skipping upgrade: cloudpickle in /usr/local/lib/python3.7/dist-packages (from mlflow->ColBERT@ git+https://github.com/cmacdonald/ColBERT.git@v0.2#egg=ColBERT->pyterrier-colbert==0.0.1) (1.3.0)\n",
            "Requirement already satisfied, skipping upgrade: Flask in /usr/local/lib/python3.7/dist-packages (from mlflow->ColBERT@ git+https://github.com/cmacdonald/ColBERT.git@v0.2#egg=ColBERT->pyterrier-colbert==0.0.1) (1.1.2)\n",
            "Requirement already satisfied, skipping upgrade: prometheus-flask-exporter in /usr/local/lib/python3.7/dist-packages (from mlflow->ColBERT@ git+https://github.com/cmacdonald/ColBERT.git@v0.2#egg=ColBERT->pyterrier-colbert==0.0.1) (0.18.1)\n",
            "Requirement already satisfied, skipping upgrade: google-auth<2,>=1.6.3 in /usr/local/lib/python3.7/dist-packages (from tensorboard->ColBERT@ git+https://github.com/cmacdonald/ColBERT.git@v0.2#egg=ColBERT->pyterrier-colbert==0.0.1) (1.27.1)\n",
            "Requirement already satisfied, skipping upgrade: markdown>=2.6.8 in /usr/local/lib/python3.7/dist-packages (from tensorboard->ColBERT@ git+https://github.com/cmacdonald/ColBERT.git@v0.2#egg=ColBERT->pyterrier-colbert==0.0.1) (3.3.4)\n",
            "Requirement already satisfied, skipping upgrade: setuptools>=41.0.0 in /usr/local/lib/python3.7/dist-packages (from tensorboard->ColBERT@ git+https://github.com/cmacdonald/ColBERT.git@v0.2#egg=ColBERT->pyterrier-colbert==0.0.1) (54.1.2)\n",
            "Requirement already satisfied, skipping upgrade: tensorboard-plugin-wit>=1.6.0 in /usr/local/lib/python3.7/dist-packages (from tensorboard->ColBERT@ git+https://github.com/cmacdonald/ColBERT.git@v0.2#egg=ColBERT->pyterrier-colbert==0.0.1) (1.8.0)\n",
            "Requirement already satisfied, skipping upgrade: werkzeug>=0.11.15 in /usr/local/lib/python3.7/dist-packages (from tensorboard->ColBERT@ git+https://github.com/cmacdonald/ColBERT.git@v0.2#egg=ColBERT->pyterrier-colbert==0.0.1) (1.0.1)\n",
            "Requirement already satisfied, skipping upgrade: absl-py>=0.4 in /usr/local/lib/python3.7/dist-packages (from tensorboard->ColBERT@ git+https://github.com/cmacdonald/ColBERT.git@v0.2#egg=ColBERT->pyterrier-colbert==0.0.1) (0.10.0)\n",
            "Requirement already satisfied, skipping upgrade: google-auth-oauthlib<0.5,>=0.4.1 in /usr/local/lib/python3.7/dist-packages (from tensorboard->ColBERT@ git+https://github.com/cmacdonald/ColBERT.git@v0.2#egg=ColBERT->pyterrier-colbert==0.0.1) (0.4.3)\n",
            "Requirement already satisfied, skipping upgrade: wheel>=0.26; python_version >= \"3\" in /usr/local/lib/python3.7/dist-packages (from tensorboard->ColBERT@ git+https://github.com/cmacdonald/ColBERT.git@v0.2#egg=ColBERT->pyterrier-colbert==0.0.1) (0.36.2)\n",
            "Requirement already satisfied, skipping upgrade: grpcio>=1.24.3 in /usr/local/lib/python3.7/dist-packages (from tensorboard->ColBERT@ git+https://github.com/cmacdonald/ColBERT.git@v0.2#egg=ColBERT->pyterrier-colbert==0.0.1) (1.32.0)\n",
            "Requirement already satisfied, skipping upgrade: sentencepiece!=0.1.92 in /usr/local/lib/python3.7/dist-packages (from transformers==3.0.2->ColBERT@ git+https://github.com/cmacdonald/ColBERT.git@v0.2#egg=ColBERT->pyterrier-colbert==0.0.1) (0.1.95)\n",
            "Requirement already satisfied, skipping upgrade: sacremoses in /usr/local/lib/python3.7/dist-packages (from transformers==3.0.2->ColBERT@ git+https://github.com/cmacdonald/ColBERT.git@v0.2#egg=ColBERT->pyterrier-colbert==0.0.1) (0.0.43)\n",
            "Requirement already satisfied, skipping upgrade: tokenizers==0.8.1.rc1 in /usr/local/lib/python3.7/dist-packages (from transformers==3.0.2->ColBERT@ git+https://github.com/cmacdonald/ColBERT.git@v0.2#egg=ColBERT->pyterrier-colbert==0.0.1) (0.8.1rc1)\n",
            "Requirement already satisfied, skipping upgrade: filelock in /usr/local/lib/python3.7/dist-packages (from transformers==3.0.2->ColBERT@ git+https://github.com/cmacdonald/ColBERT.git@v0.2#egg=ColBERT->pyterrier-colbert==0.0.1) (3.0.12)\n",
            "Requirement already satisfied, skipping upgrade: regex!=2019.12.17 in /usr/local/lib/python3.7/dist-packages (from transformers==3.0.2->ColBERT@ git+https://github.com/cmacdonald/ColBERT.git@v0.2#egg=ColBERT->pyterrier-colbert==0.0.1) (2019.12.20)\n",
            "Requirement already satisfied, skipping upgrade: typing-extensions in /usr/local/lib/python3.7/dist-packages (from torch->ColBERT@ git+https://github.com/cmacdonald/ColBERT.git@v0.2#egg=ColBERT->pyterrier-colbert==0.0.1) (3.7.4.3)\n",
            "Requirement already satisfied, skipping upgrade: cbor>=1.0.0 in /usr/local/lib/python3.7/dist-packages (from trec-car-tools>=2.5.4->ir-datasets>=0.2.0->python-terrier->pyterrier-colbert==0.0.1) (1.0.0)\n",
            "Requirement already satisfied, skipping upgrade: sphinxcontrib-htmlhelp in /usr/local/lib/python3.7/dist-packages (from sphinx<4,>=2->myst-parser->python-terrier->pyterrier-colbert==0.0.1) (1.0.3)\n",
            "Requirement already satisfied, skipping upgrade: sphinxcontrib-serializinghtml in /usr/local/lib/python3.7/dist-packages (from sphinx<4,>=2->myst-parser->python-terrier->pyterrier-colbert==0.0.1) (1.1.4)\n",
            "Requirement already satisfied, skipping upgrade: snowballstemmer>=1.1 in /usr/local/lib/python3.7/dist-packages (from sphinx<4,>=2->myst-parser->python-terrier->pyterrier-colbert==0.0.1) (2.1.0)\n",
            "Requirement already satisfied, skipping upgrade: sphinxcontrib-applehelp in /usr/local/lib/python3.7/dist-packages (from sphinx<4,>=2->myst-parser->python-terrier->pyterrier-colbert==0.0.1) (1.0.2)\n",
            "Requirement already satisfied, skipping upgrade: sphinxcontrib-jsmath in /usr/local/lib/python3.7/dist-packages (from sphinx<4,>=2->myst-parser->python-terrier->pyterrier-colbert==0.0.1) (1.0.1)\n",
            "Requirement already satisfied, skipping upgrade: Pygments>=2.0 in /usr/local/lib/python3.7/dist-packages (from sphinx<4,>=2->myst-parser->python-terrier->pyterrier-colbert==0.0.1) (2.6.1)\n",
            "Requirement already satisfied, skipping upgrade: alabaster<0.8,>=0.7 in /usr/local/lib/python3.7/dist-packages (from sphinx<4,>=2->myst-parser->python-terrier->pyterrier-colbert==0.0.1) (0.7.12)\n",
            "Requirement already satisfied, skipping upgrade: imagesize in /usr/local/lib/python3.7/dist-packages (from sphinx<4,>=2->myst-parser->python-terrier->pyterrier-colbert==0.0.1) (1.2.0)\n",
            "Requirement already satisfied, skipping upgrade: sphinxcontrib-qthelp in /usr/local/lib/python3.7/dist-packages (from sphinx<4,>=2->myst-parser->python-terrier->pyterrier-colbert==0.0.1) (1.0.3)\n",
            "Requirement already satisfied, skipping upgrade: sphinxcontrib-devhelp in /usr/local/lib/python3.7/dist-packages (from sphinx<4,>=2->myst-parser->python-terrier->pyterrier-colbert==0.0.1) (1.0.2)\n",
            "Requirement already satisfied, skipping upgrade: babel>=1.3 in /usr/local/lib/python3.7/dist-packages (from sphinx<4,>=2->myst-parser->python-terrier->pyterrier-colbert==0.0.1) (2.9.0)\n",
            "Requirement already satisfied, skipping upgrade: attrs<21,>=19 in /usr/local/lib/python3.7/dist-packages (from markdown-it-py~=0.6.2->myst-parser->python-terrier->pyterrier-colbert==0.0.1) (20.3.0)\n",
            "Requirement already satisfied, skipping upgrade: joblib>=0.11 in /usr/local/lib/python3.7/dist-packages (from scikit-learn->sklearn->python-terrier->pyterrier-colbert==0.0.1) (1.0.1)\n",
            "Requirement already satisfied, skipping upgrade: pyparsing>=2.0.2 in /usr/local/lib/python3.7/dist-packages (from packaging->deprecation->python-terrier->pyterrier-colbert==0.0.1) (2.4.7)\n",
            "Requirement already satisfied, skipping upgrade: gitdb<5,>=4.0.1 in /usr/local/lib/python3.7/dist-packages (from gitpython>=2.1.0->mlflow->ColBERT@ git+https://github.com/cmacdonald/ColBERT.git@v0.2#egg=ColBERT->pyterrier-colbert==0.0.1) (4.0.5)\n",
            "Requirement already satisfied, skipping upgrade: websocket-client>=0.32.0 in /usr/local/lib/python3.7/dist-packages (from docker>=4.0.0->mlflow->ColBERT@ git+https://github.com/cmacdonald/ColBERT.git@v0.2#egg=ColBERT->pyterrier-colbert==0.0.1) (0.58.0)\n",
            "Requirement already satisfied, skipping upgrade: Mako in /usr/local/lib/python3.7/dist-packages (from alembic<=1.4.1->mlflow->ColBERT@ git+https://github.com/cmacdonald/ColBERT.git@v0.2#egg=ColBERT->pyterrier-colbert==0.0.1) (1.1.4)\n",
            "Requirement already satisfied, skipping upgrade: python-editor>=0.3 in /usr/local/lib/python3.7/dist-packages (from alembic<=1.4.1->mlflow->ColBERT@ git+https://github.com/cmacdonald/ColBERT.git@v0.2#egg=ColBERT->pyterrier-colbert==0.0.1) (1.0.4)\n",
            "Requirement already satisfied, skipping upgrade: itsdangerous>=0.24 in /usr/local/lib/python3.7/dist-packages (from Flask->mlflow->ColBERT@ git+https://github.com/cmacdonald/ColBERT.git@v0.2#egg=ColBERT->pyterrier-colbert==0.0.1) (1.1.0)\n",
            "Requirement already satisfied, skipping upgrade: prometheus-client in /usr/local/lib/python3.7/dist-packages (from prometheus-flask-exporter->mlflow->ColBERT@ git+https://github.com/cmacdonald/ColBERT.git@v0.2#egg=ColBERT->pyterrier-colbert==0.0.1) (0.9.0)\n",
            "Requirement already satisfied, skipping upgrade: rsa<5,>=3.1.4; python_version >= \"3.6\" in /usr/local/lib/python3.7/dist-packages (from google-auth<2,>=1.6.3->tensorboard->ColBERT@ git+https://github.com/cmacdonald/ColBERT.git@v0.2#egg=ColBERT->pyterrier-colbert==0.0.1) (4.7.2)\n",
            "Requirement already satisfied, skipping upgrade: pyasn1-modules>=0.2.1 in /usr/local/lib/python3.7/dist-packages (from google-auth<2,>=1.6.3->tensorboard->ColBERT@ git+https://github.com/cmacdonald/ColBERT.git@v0.2#egg=ColBERT->pyterrier-colbert==0.0.1) (0.2.8)\n",
            "Requirement already satisfied, skipping upgrade: cachetools<5.0,>=2.0.0 in /usr/local/lib/python3.7/dist-packages (from google-auth<2,>=1.6.3->tensorboard->ColBERT@ git+https://github.com/cmacdonald/ColBERT.git@v0.2#egg=ColBERT->pyterrier-colbert==0.0.1) (4.2.1)\n",
            "Requirement already satisfied, skipping upgrade: importlib-metadata; python_version < \"3.8\" in /usr/local/lib/python3.7/dist-packages (from markdown>=2.6.8->tensorboard->ColBERT@ git+https://github.com/cmacdonald/ColBERT.git@v0.2#egg=ColBERT->pyterrier-colbert==0.0.1) (3.7.2)\n",
            "Requirement already satisfied, skipping upgrade: requests-oauthlib>=0.7.0 in /usr/local/lib/python3.7/dist-packages (from google-auth-oauthlib<0.5,>=0.4.1->tensorboard->ColBERT@ git+https://github.com/cmacdonald/ColBERT.git@v0.2#egg=ColBERT->pyterrier-colbert==0.0.1) (1.3.0)\n",
            "Requirement already satisfied, skipping upgrade: smmap<4,>=3.0.1 in /usr/local/lib/python3.7/dist-packages (from gitdb<5,>=4.0.1->gitpython>=2.1.0->mlflow->ColBERT@ git+https://github.com/cmacdonald/ColBERT.git@v0.2#egg=ColBERT->pyterrier-colbert==0.0.1) (3.0.5)\n",
            "Requirement already satisfied, skipping upgrade: pyasn1>=0.1.3 in /usr/local/lib/python3.7/dist-packages (from rsa<5,>=3.1.4; python_version >= \"3.6\"->google-auth<2,>=1.6.3->tensorboard->ColBERT@ git+https://github.com/cmacdonald/ColBERT.git@v0.2#egg=ColBERT->pyterrier-colbert==0.0.1) (0.4.8)\n",
            "Requirement already satisfied, skipping upgrade: zipp>=0.5 in /usr/local/lib/python3.7/dist-packages (from importlib-metadata; python_version < \"3.8\"->markdown>=2.6.8->tensorboard->ColBERT@ git+https://github.com/cmacdonald/ColBERT.git@v0.2#egg=ColBERT->pyterrier-colbert==0.0.1) (3.4.1)\n",
            "Requirement already satisfied, skipping upgrade: oauthlib>=3.0.0 in /usr/local/lib/python3.7/dist-packages (from requests-oauthlib>=0.7.0->google-auth-oauthlib<0.5,>=0.4.1->tensorboard->ColBERT@ git+https://github.com/cmacdonald/ColBERT.git@v0.2#egg=ColBERT->pyterrier-colbert==0.0.1) (3.1.0)\n",
            "Building wheels for collected packages: pyterrier-colbert\n",
            "  Building wheel for pyterrier-colbert (setup.py) ... \u001b[?25l\u001b[?25hdone\n",
            "  Created wheel for pyterrier-colbert: filename=pyterrier_colbert-0.0.1-cp37-none-any.whl size=12044 sha256=f2309f2471fbeb994dd14420625996f4a5f4e480e5d7a6ed058144330dcd8893\n",
            "  Stored in directory: /tmp/pip-ephem-wheel-cache-pswirv9n/wheels/7d/23/87/59bcb24958d35319315084fe0b193e9b0c15a1d384199dbaf3\n",
            "Successfully built pyterrier-colbert\n",
            "Installing collected packages: pyterrier-colbert\n",
            "  Found existing installation: pyterrier-colbert 0.0.1\n",
            "    Uninstalling pyterrier-colbert-0.0.1:\n",
            "      Successfully uninstalled pyterrier-colbert-0.0.1\n",
            "Successfully installed pyterrier-colbert-0.0.1\n"
          ],
          "name": "stdout"
        }
      ]
    },
    {
      "cell_type": "code",
      "metadata": {
        "colab": {
          "base_uri": "https://localhost:8080/"
        },
        "id": "Z0k0VtyRsnVz",
        "outputId": "9955d600-49d0-4f4c-cae1-6d8a67eb1e46"
      },
      "source": [
        "import pyterrier as pt\n",
        "pt.init()"
      ],
      "execution_count": 2,
      "outputs": [
        {
          "output_type": "stream",
          "text": [
            "/usr/local/lib/python3.7/dist-packages/tqdm/std.py:658: FutureWarning: The Panel class is removed from pandas. Accessing it from the top-level namespace will also be removed in the next version\n",
            "  from pandas import Panel\n"
          ],
          "name": "stderr"
        },
        {
          "output_type": "stream",
          "text": [
            "PyTerrier 0.4.0 has loaded Terrier 5.4 (built by craigm on 2021-01-16 14:17)\n"
          ],
          "name": "stdout"
        }
      ]
    },
    {
      "cell_type": "markdown",
      "metadata": {
        "id": "yfEvhR2EdpTB"
      },
      "source": [
        "## PyTerrier_ColBERT \n",
        "\n",
        "Here, we load a ColBERT checkpoint created at the University of Glasgow on the MSMARCO passage ranking triples file."
      ]
    },
    {
      "cell_type": "code",
      "metadata": {
        "colab": {
          "base_uri": "https://localhost:8080/"
        },
        "id": "eYAP_1ZnsKKe",
        "outputId": "8e5608da-6b31-4330-e1bd-1d15ec2bb43a"
      },
      "source": [
        "checkpoint=\"http://www.dcs.gla.ac.uk/~craigm/colbert.dnn.zip\"\n",
        "import pyterrier_colbert.ranking\n",
        "factory = pyterrier_colbert.ranking.ColBERTFactory(checkpoint, None, None)"
      ],
      "execution_count": 3,
      "outputs": [
        {
          "output_type": "stream",
          "text": [
            "/usr/local/lib/python3.7/dist-packages/pyterrier_colbert/ranking.py:221: UserWarning: No index_root and index_name specified - no index ranking possible\n",
            "  warn(\"No index_root and index_name specified - no index ranking possible\")\n",
            "/usr/local/lib/python3.7/dist-packages/pyterrier_colbert/ranking.py:237: UserWarning: Faiss not installed. You cannot do retrieval\n",
            "  warn(\"Faiss not installed. You cannot do retrieval\")\n",
            "Some weights of the model checkpoint at bert-base-uncased were not used when initializing ColBERT: ['cls.predictions.bias', 'cls.predictions.transform.dense.weight', 'cls.predictions.transform.dense.bias', 'cls.predictions.decoder.weight', 'cls.seq_relationship.weight', 'cls.seq_relationship.bias', 'cls.predictions.transform.LayerNorm.weight', 'cls.predictions.transform.LayerNorm.bias']\n",
            "- This IS expected if you are initializing ColBERT from the checkpoint of a model trained on another task or with another architecture (e.g. initializing a BertForSequenceClassification model from a BertForPretraining model).\n",
            "- This IS NOT expected if you are initializing ColBERT from the checkpoint of a model that you expect to be exactly identical (initializing a BertForSequenceClassification model from a BertForSequenceClassification model).\n",
            "Some weights of ColBERT were not initialized from the model checkpoint at bert-base-uncased and are newly initialized: ['linear.weight']\n",
            "You should probably TRAIN this model on a down-stream task to be able to use it for predictions and inference.\n"
          ],
          "name": "stderr"
        },
        {
          "output_type": "stream",
          "text": [
            "[Mar 24, 18:17:58] #> Loading model checkpoint.\n",
            "[Mar 24, 18:17:58] #> Loading checkpoint http://www.dcs.gla.ac.uk/~craigm/colbert.dnn.zip\n"
          ],
          "name": "stdout"
        },
        {
          "output_type": "stream",
          "text": [
            "/usr/local/lib/python3.7/dist-packages/torch/hub.py:452: UserWarning: Falling back to the old format < 1.6. This support will be deprecated in favor of default zipfile format introduced in 1.6. Please redo torch.save() to save it in the new zipfile format.\n",
            "  warnings.warn('Falling back to the old format < 1.6. This support will be '\n"
          ],
          "name": "stderr"
        },
        {
          "output_type": "stream",
          "text": [
            "[Mar 24, 18:18:10] #> checkpoint['epoch'] = 0\n",
            "[Mar 24, 18:18:10] #> checkpoint['batch'] = 44500\n"
          ],
          "name": "stdout"
        }
      ]
    },
    {
      "cell_type": "markdown",
      "metadata": {
        "id": "Rr79-7n2d9PO"
      },
      "source": [
        "## Interactions Figure\n",
        "\n",
        "This interaction figure shows how a query and a document interact. In particular: \n",
        " - the top sub-plot shows the contribution each query wordpiece to the document's score.\n",
        " - In the heatmap, darker colours indicate higher similarity between the query emebdding and the document embedding. \n",
        " - ColBERT uses max_sim operator - for each query embedding, only the most similar document embedding contributes to the final score of the document. For each query embedding, we put an \"X\" mark in the row of document embedding that is the source of that maximum similarity for that query embedding.\n",
        " - \\[MASK\\] tokens are extra tokens added to the query by ColBERT. We can observe which document embeddings these match with.\n",
        "\n"
      ]
    },
    {
      "cell_type": "code",
      "metadata": {
        "id": "nqyp6hEAsO10",
        "outputId": "6f8fb427-b1de-47b3-f28e-01b614703706",
        "colab": {
          "base_uri": "https://localhost:8080/",
          "height": 239
        }
      },
      "source": [
        "factory.explain_text(\"why did the us voluntarily enter ww1\", \"the USA entered ww2 because of pearl harbor\")"
      ],
      "execution_count": 5,
      "outputs": [
        {
          "output_type": "display_data",
          "data": {
            "image/png": "[encoded data removed]",
            "text/plain": [
              "<Figure size 288x864 with 2 Axes>"
            ]
          },
          "metadata": {
            "tags": [],
            "needs_background": "light"
          }
        }
      ]
    }
  ]
}