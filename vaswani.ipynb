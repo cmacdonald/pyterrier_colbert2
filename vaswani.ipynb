{
  "cells": [
    {
      "cell_type": "code",
      "execution_count": 1,
      "metadata": {
        "colab": {
          "base_uri": "https://localhost:8080/"
        },
        "id": "Hp-EBmQb7yEb",
        "outputId": "5c2abb7b-27da-4693-87d7-c21da52f990d"
      },
      "outputs": [
        {
          "name": "stdout",
          "output_type": "stream",
          "text": [
            "Collecting git+https://github.com/cmacdonald/pyterrier_colbert2.git\n",
            "  Cloning https://github.com/cmacdonald/pyterrier_colbert2.git to /tmp/pip-req-build-flzl025o\n",
            "  Running command git clone --filter=blob:none --quiet https://github.com/cmacdonald/pyterrier_colbert2.git /tmp/pip-req-build-flzl025o\n",
            "  Resolved https://github.com/cmacdonald/pyterrier_colbert2.git to commit 77f4c586e37831c5fd7cceff40b81f4bcae178d6\n",
            "  Preparing metadata (setup.py) ... \u001b[?25l\u001b[?25hdone\n",
            "Collecting colbert-ai@ git+https://github.com/stanford-futuredata/ColBERT.git#egg=colbert-ai (from pyterrier-colbert==2.0.0)\n",
            "  Cloning https://github.com/stanford-futuredata/ColBERT.git to /tmp/pip-install-b379kaaf/colbert-ai_e8544fa79ca448328029d9fc697bc936\n",
            "  Running command git clone --filter=blob:none --quiet https://github.com/stanford-futuredata/ColBERT.git /tmp/pip-install-b379kaaf/colbert-ai_e8544fa79ca448328029d9fc697bc936\n",
            "  Resolved https://github.com/stanford-futuredata/ColBERT.git to commit 8627585ad290c21720eaa54e325e7c8c301d15f6\n",
            "  Preparing metadata (setup.py) ... \u001b[?25l\u001b[?25hdone\n",
            "Requirement already satisfied: colbert-ai in /usr/local/lib/python3.11/dist-packages (from pyterrier-colbert==2.0.0) (0.2.20)\n",
            "Requirement already satisfied: npids in /usr/local/lib/python3.11/dist-packages (from pyterrier-colbert==2.0.0) (0.1.3)\n",
            "Requirement already satisfied: python-terrier>=0.13.1 in /usr/local/lib/python3.11/dist-packages (from pyterrier-colbert==2.0.0) (0.13.1)\n",
            "Requirement already satisfied: pandas in /usr/local/lib/python3.11/dist-packages (from pyterrier-colbert==2.0.0) (2.2.2)\n",
            "Requirement already satisfied: scikit-learn in /usr/local/lib/python3.11/dist-packages (from pyterrier-colbert==2.0.0) (1.6.1)\n",
            "Requirement already satisfied: numpy in /usr/local/lib/python3.11/dist-packages (from python-terrier>=0.13.1->pyterrier-colbert==2.0.0) (2.0.2)\n",
            "Requirement already satisfied: more-itertools in /usr/local/lib/python3.11/dist-packages (from python-terrier>=0.13.1->pyterrier-colbert==2.0.0) (10.7.0)\n",
            "Requirement already satisfied: tqdm in /usr/local/lib/python3.11/dist-packages (from python-terrier>=0.13.1->pyterrier-colbert==2.0.0) (4.67.1)\n",
            "Requirement already satisfied: requests in /usr/local/lib/python3.11/dist-packages (from python-terrier>=0.13.1->pyterrier-colbert==2.0.0) (2.32.3)\n",
            "Requirement already satisfied: ir-datasets>=0.3.2 in /usr/local/lib/python3.11/dist-packages (from python-terrier>=0.13.1->pyterrier-colbert==2.0.0) (0.5.11)\n",
            "Requirement already satisfied: pyjnius>=1.4.2 in /usr/local/lib/python3.11/dist-packages (from python-terrier>=0.13.1->pyterrier-colbert==2.0.0) (1.6.1)\n",
            "Requirement already satisfied: deprecated in /usr/local/lib/python3.11/dist-packages (from python-terrier>=0.13.1->pyterrier-colbert==2.0.0) (1.2.18)\n",
            "Requirement already satisfied: scipy in /usr/local/lib/python3.11/dist-packages (from python-terrier>=0.13.1->pyterrier-colbert==2.0.0) (1.16.0)\n",
            "Requirement already satisfied: ir-measures>=0.3.1 in /usr/local/lib/python3.11/dist-packages (from python-terrier>=0.13.1->pyterrier-colbert==2.0.0) (0.3.7)\n",
            "Requirement already satisfied: pytrec-eval-terrier>=0.5.3 in /usr/local/lib/python3.11/dist-packages (from python-terrier>=0.13.1->pyterrier-colbert==2.0.0) (0.5.7)\n",
            "Requirement already satisfied: jinja2 in /usr/local/lib/python3.11/dist-packages (from python-terrier>=0.13.1->pyterrier-colbert==2.0.0) (3.1.6)\n",
            "Requirement already satisfied: statsmodels in /usr/local/lib/python3.11/dist-packages (from python-terrier>=0.13.1->pyterrier-colbert==2.0.0) (0.14.5)\n",
            "Requirement already satisfied: dill in /usr/local/lib/python3.11/dist-packages (from python-terrier>=0.13.1->pyterrier-colbert==2.0.0) (0.3.8)\n",
            "Requirement already satisfied: joblib in /usr/local/lib/python3.11/dist-packages (from python-terrier>=0.13.1->pyterrier-colbert==2.0.0) (1.5.1)\n",
            "Requirement already satisfied: chest in /usr/local/lib/python3.11/dist-packages (from python-terrier>=0.13.1->pyterrier-colbert==2.0.0) (0.2.3)\n",
            "Requirement already satisfied: lz4 in /usr/local/lib/python3.11/dist-packages (from python-terrier>=0.13.1->pyterrier-colbert==2.0.0) (4.4.4)\n",
            "Requirement already satisfied: bitarray in /usr/local/lib/python3.11/dist-packages (from colbert-ai@ git+https://github.com/stanford-futuredata/ColBERT.git#egg=colbert-ai->pyterrier-colbert==2.0.0) (3.5.2)\n",
            "Requirement already satisfied: datasets in /usr/local/lib/python3.11/dist-packages (from colbert-ai@ git+https://github.com/stanford-futuredata/ColBERT.git#egg=colbert-ai->pyterrier-colbert==2.0.0) (4.0.0)\n",
            "Requirement already satisfied: flask in /usr/local/lib/python3.11/dist-packages (from colbert-ai@ git+https://github.com/stanford-futuredata/ColBERT.git#egg=colbert-ai->pyterrier-colbert==2.0.0) (3.1.1)\n",
            "Requirement already satisfied: GitPython in /usr/local/lib/python3.11/dist-packages (from colbert-ai@ git+https://github.com/stanford-futuredata/ColBERT.git#egg=colbert-ai->pyterrier-colbert==2.0.0) (3.1.44)\n",
            "Requirement already satisfied: python-dotenv in /usr/local/lib/python3.11/dist-packages (from colbert-ai@ git+https://github.com/stanford-futuredata/ColBERT.git#egg=colbert-ai->pyterrier-colbert==2.0.0) (1.1.1)\n",
            "Requirement already satisfied: ninja in /usr/local/lib/python3.11/dist-packages (from colbert-ai@ git+https://github.com/stanford-futuredata/ColBERT.git#egg=colbert-ai->pyterrier-colbert==2.0.0) (1.11.1.4)\n",
            "Requirement already satisfied: transformers in /usr/local/lib/python3.11/dist-packages (from colbert-ai@ git+https://github.com/stanford-futuredata/ColBERT.git#egg=colbert-ai->pyterrier-colbert==2.0.0) (4.53.3)\n",
            "Requirement already satisfied: ujson in /usr/local/lib/python3.11/dist-packages (from colbert-ai@ git+https://github.com/stanford-futuredata/ColBERT.git#egg=colbert-ai->pyterrier-colbert==2.0.0) (5.10.0)\n",
            "Requirement already satisfied: python-dateutil>=2.8.2 in /usr/local/lib/python3.11/dist-packages (from pandas->pyterrier-colbert==2.0.0) (2.9.0.post0)\n",
            "Requirement already satisfied: pytz>=2020.1 in /usr/local/lib/python3.11/dist-packages (from pandas->pyterrier-colbert==2.0.0) (2025.2)\n",
            "Requirement already satisfied: tzdata>=2022.7 in /usr/local/lib/python3.11/dist-packages (from pandas->pyterrier-colbert==2.0.0) (2025.2)\n",
            "Requirement already satisfied: threadpoolctl>=3.1.0 in /usr/local/lib/python3.11/dist-packages (from scikit-learn->pyterrier-colbert==2.0.0) (3.6.0)\n",
            "Requirement already satisfied: beautifulsoup4>=4.4.1 in /usr/local/lib/python3.11/dist-packages (from ir-datasets>=0.3.2->python-terrier>=0.13.1->pyterrier-colbert==2.0.0) (4.13.4)\n",
            "Requirement already satisfied: inscriptis>=2.2.0 in /usr/local/lib/python3.11/dist-packages (from ir-datasets>=0.3.2->python-terrier>=0.13.1->pyterrier-colbert==2.0.0) (2.6.0)\n",
            "Requirement already satisfied: lxml>=4.5.2 in /usr/local/lib/python3.11/dist-packages (from ir-datasets>=0.3.2->python-terrier>=0.13.1->pyterrier-colbert==2.0.0) (5.4.0)\n",
            "Requirement already satisfied: pyyaml>=5.3.1 in /usr/local/lib/python3.11/dist-packages (from ir-datasets>=0.3.2->python-terrier>=0.13.1->pyterrier-colbert==2.0.0) (6.0.2)\n",
            "Requirement already satisfied: trec-car-tools>=2.5.4 in /usr/local/lib/python3.11/dist-packages (from ir-datasets>=0.3.2->python-terrier>=0.13.1->pyterrier-colbert==2.0.0) (2.6)\n",
            "Requirement already satisfied: warc3-wet>=0.2.3 in /usr/local/lib/python3.11/dist-packages (from ir-datasets>=0.3.2->python-terrier>=0.13.1->pyterrier-colbert==2.0.0) (0.2.5)\n",
            "Requirement already satisfied: warc3-wet-clueweb09>=0.2.5 in /usr/local/lib/python3.11/dist-packages (from ir-datasets>=0.3.2->python-terrier>=0.13.1->pyterrier-colbert==2.0.0) (0.2.5)\n",
            "Requirement already satisfied: zlib-state>=0.1.3 in /usr/local/lib/python3.11/dist-packages (from ir-datasets>=0.3.2->python-terrier>=0.13.1->pyterrier-colbert==2.0.0) (0.1.9)\n",
            "Requirement already satisfied: ijson>=3.1.3 in /usr/local/lib/python3.11/dist-packages (from ir-datasets>=0.3.2->python-terrier>=0.13.1->pyterrier-colbert==2.0.0) (3.4.0)\n",
            "Requirement already satisfied: unlzw3>=0.2.1 in /usr/local/lib/python3.11/dist-packages (from ir-datasets>=0.3.2->python-terrier>=0.13.1->pyterrier-colbert==2.0.0) (0.2.3)\n",
            "Requirement already satisfied: pyarrow>=16.1.0 in /usr/local/lib/python3.11/dist-packages (from ir-datasets>=0.3.2->python-terrier>=0.13.1->pyterrier-colbert==2.0.0) (18.1.0)\n",
            "Requirement already satisfied: six>=1.5 in /usr/local/lib/python3.11/dist-packages (from python-dateutil>=2.8.2->pandas->pyterrier-colbert==2.0.0) (1.17.0)\n",
            "Requirement already satisfied: charset-normalizer<4,>=2 in /usr/local/lib/python3.11/dist-packages (from requests->python-terrier>=0.13.1->pyterrier-colbert==2.0.0) (3.4.2)\n",
            "Requirement already satisfied: idna<4,>=2.5 in /usr/local/lib/python3.11/dist-packages (from requests->python-terrier>=0.13.1->pyterrier-colbert==2.0.0) (3.10)\n",
            "Requirement already satisfied: urllib3<3,>=1.21.1 in /usr/local/lib/python3.11/dist-packages (from requests->python-terrier>=0.13.1->pyterrier-colbert==2.0.0) (2.5.0)\n",
            "Requirement already satisfied: certifi>=2017.4.17 in /usr/local/lib/python3.11/dist-packages (from requests->python-terrier>=0.13.1->pyterrier-colbert==2.0.0) (2025.7.14)\n",
            "Requirement already satisfied: heapdict in /usr/local/lib/python3.11/dist-packages (from chest->python-terrier>=0.13.1->pyterrier-colbert==2.0.0) (1.0.1)\n",
            "Requirement already satisfied: filelock in /usr/local/lib/python3.11/dist-packages (from datasets->colbert-ai@ git+https://github.com/stanford-futuredata/ColBERT.git#egg=colbert-ai->pyterrier-colbert==2.0.0) (3.18.0)\n",
            "Requirement already satisfied: xxhash in /usr/local/lib/python3.11/dist-packages (from datasets->colbert-ai@ git+https://github.com/stanford-futuredata/ColBERT.git#egg=colbert-ai->pyterrier-colbert==2.0.0) (3.5.0)\n",
            "Requirement already satisfied: multiprocess<0.70.17 in /usr/local/lib/python3.11/dist-packages (from datasets->colbert-ai@ git+https://github.com/stanford-futuredata/ColBERT.git#egg=colbert-ai->pyterrier-colbert==2.0.0) (0.70.16)\n",
            "Requirement already satisfied: fsspec<=2025.3.0,>=2023.1.0 in /usr/local/lib/python3.11/dist-packages (from fsspec[http]<=2025.3.0,>=2023.1.0->datasets->colbert-ai@ git+https://github.com/stanford-futuredata/ColBERT.git#egg=colbert-ai->pyterrier-colbert==2.0.0) (2025.3.0)\n",
            "Requirement already satisfied: huggingface-hub>=0.24.0 in /usr/local/lib/python3.11/dist-packages (from datasets->colbert-ai@ git+https://github.com/stanford-futuredata/ColBERT.git#egg=colbert-ai->pyterrier-colbert==2.0.0) (0.33.4)\n",
            "Requirement already satisfied: packaging in /usr/local/lib/python3.11/dist-packages (from datasets->colbert-ai@ git+https://github.com/stanford-futuredata/ColBERT.git#egg=colbert-ai->pyterrier-colbert==2.0.0) (25.0)\n",
            "Requirement already satisfied: wrapt<2,>=1.10 in /usr/local/lib/python3.11/dist-packages (from deprecated->python-terrier>=0.13.1->pyterrier-colbert==2.0.0) (1.17.2)\n",
            "Requirement already satisfied: blinker>=1.9.0 in /usr/local/lib/python3.11/dist-packages (from flask->colbert-ai@ git+https://github.com/stanford-futuredata/ColBERT.git#egg=colbert-ai->pyterrier-colbert==2.0.0) (1.9.0)\n",
            "Requirement already satisfied: click>=8.1.3 in /usr/local/lib/python3.11/dist-packages (from flask->colbert-ai@ git+https://github.com/stanford-futuredata/ColBERT.git#egg=colbert-ai->pyterrier-colbert==2.0.0) (8.2.1)\n",
            "Requirement already satisfied: itsdangerous>=2.2.0 in /usr/local/lib/python3.11/dist-packages (from flask->colbert-ai@ git+https://github.com/stanford-futuredata/ColBERT.git#egg=colbert-ai->pyterrier-colbert==2.0.0) (2.2.0)\n",
            "Requirement already satisfied: markupsafe>=2.1.1 in /usr/local/lib/python3.11/dist-packages (from flask->colbert-ai@ git+https://github.com/stanford-futuredata/ColBERT.git#egg=colbert-ai->pyterrier-colbert==2.0.0) (3.0.2)\n",
            "Requirement already satisfied: werkzeug>=3.1.0 in /usr/local/lib/python3.11/dist-packages (from flask->colbert-ai@ git+https://github.com/stanford-futuredata/ColBERT.git#egg=colbert-ai->pyterrier-colbert==2.0.0) (3.1.3)\n",
            "Requirement already satisfied: gitdb<5,>=4.0.1 in /usr/local/lib/python3.11/dist-packages (from GitPython->colbert-ai@ git+https://github.com/stanford-futuredata/ColBERT.git#egg=colbert-ai->pyterrier-colbert==2.0.0) (4.0.12)\n",
            "Requirement already satisfied: patsy>=0.5.6 in /usr/local/lib/python3.11/dist-packages (from statsmodels->python-terrier>=0.13.1->pyterrier-colbert==2.0.0) (1.0.1)\n",
            "Requirement already satisfied: regex!=2019.12.17 in /usr/local/lib/python3.11/dist-packages (from transformers->colbert-ai@ git+https://github.com/stanford-futuredata/ColBERT.git#egg=colbert-ai->pyterrier-colbert==2.0.0) (2024.11.6)\n",
            "Requirement already satisfied: tokenizers<0.22,>=0.21 in /usr/local/lib/python3.11/dist-packages (from transformers->colbert-ai@ git+https://github.com/stanford-futuredata/ColBERT.git#egg=colbert-ai->pyterrier-colbert==2.0.0) (0.21.2)\n",
            "Requirement already satisfied: safetensors>=0.4.3 in /usr/local/lib/python3.11/dist-packages (from transformers->colbert-ai@ git+https://github.com/stanford-futuredata/ColBERT.git#egg=colbert-ai->pyterrier-colbert==2.0.0) (0.5.3)\n",
            "Requirement already satisfied: soupsieve>1.2 in /usr/local/lib/python3.11/dist-packages (from beautifulsoup4>=4.4.1->ir-datasets>=0.3.2->python-terrier>=0.13.1->pyterrier-colbert==2.0.0) (2.7)\n",
            "Requirement already satisfied: typing-extensions>=4.0.0 in /usr/local/lib/python3.11/dist-packages (from beautifulsoup4>=4.4.1->ir-datasets>=0.3.2->python-terrier>=0.13.1->pyterrier-colbert==2.0.0) (4.14.1)\n",
            "Requirement already satisfied: aiohttp!=4.0.0a0,!=4.0.0a1 in /usr/local/lib/python3.11/dist-packages (from fsspec[http]<=2025.3.0,>=2023.1.0->datasets->colbert-ai@ git+https://github.com/stanford-futuredata/ColBERT.git#egg=colbert-ai->pyterrier-colbert==2.0.0) (3.12.14)\n",
            "Requirement already satisfied: smmap<6,>=3.0.1 in /usr/local/lib/python3.11/dist-packages (from gitdb<5,>=4.0.1->GitPython->colbert-ai@ git+https://github.com/stanford-futuredata/ColBERT.git#egg=colbert-ai->pyterrier-colbert==2.0.0) (5.0.2)\n",
            "Requirement already satisfied: hf-xet<2.0.0,>=1.1.2 in /usr/local/lib/python3.11/dist-packages (from huggingface-hub>=0.24.0->datasets->colbert-ai@ git+https://github.com/stanford-futuredata/ColBERT.git#egg=colbert-ai->pyterrier-colbert==2.0.0) (1.1.5)\n",
            "Requirement already satisfied: cbor>=1.0.0 in /usr/local/lib/python3.11/dist-packages (from trec-car-tools>=2.5.4->ir-datasets>=0.3.2->python-terrier>=0.13.1->pyterrier-colbert==2.0.0) (1.0.0)\n",
            "Requirement already satisfied: aiohappyeyeballs>=2.5.0 in /usr/local/lib/python3.11/dist-packages (from aiohttp!=4.0.0a0,!=4.0.0a1->fsspec[http]<=2025.3.0,>=2023.1.0->datasets->colbert-ai@ git+https://github.com/stanford-futuredata/ColBERT.git#egg=colbert-ai->pyterrier-colbert==2.0.0) (2.6.1)\n",
            "Requirement already satisfied: aiosignal>=1.4.0 in /usr/local/lib/python3.11/dist-packages (from aiohttp!=4.0.0a0,!=4.0.0a1->fsspec[http]<=2025.3.0,>=2023.1.0->datasets->colbert-ai@ git+https://github.com/stanford-futuredata/ColBERT.git#egg=colbert-ai->pyterrier-colbert==2.0.0) (1.4.0)\n",
            "Requirement already satisfied: attrs>=17.3.0 in /usr/local/lib/python3.11/dist-packages (from aiohttp!=4.0.0a0,!=4.0.0a1->fsspec[http]<=2025.3.0,>=2023.1.0->datasets->colbert-ai@ git+https://github.com/stanford-futuredata/ColBERT.git#egg=colbert-ai->pyterrier-colbert==2.0.0) (25.3.0)\n",
            "Requirement already satisfied: frozenlist>=1.1.1 in /usr/local/lib/python3.11/dist-packages (from aiohttp!=4.0.0a0,!=4.0.0a1->fsspec[http]<=2025.3.0,>=2023.1.0->datasets->colbert-ai@ git+https://github.com/stanford-futuredata/ColBERT.git#egg=colbert-ai->pyterrier-colbert==2.0.0) (1.7.0)\n",
            "Requirement already satisfied: multidict<7.0,>=4.5 in /usr/local/lib/python3.11/dist-packages (from aiohttp!=4.0.0a0,!=4.0.0a1->fsspec[http]<=2025.3.0,>=2023.1.0->datasets->colbert-ai@ git+https://github.com/stanford-futuredata/ColBERT.git#egg=colbert-ai->pyterrier-colbert==2.0.0) (6.6.3)\n",
            "Requirement already satisfied: propcache>=0.2.0 in /usr/local/lib/python3.11/dist-packages (from aiohttp!=4.0.0a0,!=4.0.0a1->fsspec[http]<=2025.3.0,>=2023.1.0->datasets->colbert-ai@ git+https://github.com/stanford-futuredata/ColBERT.git#egg=colbert-ai->pyterrier-colbert==2.0.0) (0.3.2)\n",
            "Requirement already satisfied: yarl<2.0,>=1.17.0 in /usr/local/lib/python3.11/dist-packages (from aiohttp!=4.0.0a0,!=4.0.0a1->fsspec[http]<=2025.3.0,>=2023.1.0->datasets->colbert-ai@ git+https://github.com/stanford-futuredata/ColBERT.git#egg=colbert-ai->pyterrier-colbert==2.0.0) (1.20.1)\n"
          ]
        }
      ],
      "source": [
        "%pip install -q git+https://github.com/cmacdonald/pyterrier_colbert2.git"
      ]
    },
    {
      "cell_type": "code",
      "execution_count": 2,
      "metadata": {
        "colab": {
          "base_uri": "https://localhost:8080/"
        },
        "id": "wyqXWs5qTv8V",
        "outputId": "7ac53fb4-ec35-46a2-e132-bfa7d2adda4a"
      },
      "outputs": [
        {
          "name": "stdout",
          "output_type": "stream",
          "text": [
            "Requirement already satisfied: faiss-cpu in /usr/local/lib/python3.11/dist-packages (1.11.0.post1)\n",
            "Requirement already satisfied: numpy<3.0,>=1.25.0 in /usr/local/lib/python3.11/dist-packages (from faiss-cpu) (2.0.2)\n",
            "Requirement already satisfied: packaging in /usr/local/lib/python3.11/dist-packages (from faiss-cpu) (25.0)\n"
          ]
        }
      ],
      "source": [
        "%pip install faiss-cpu"
      ]
    },
    {
      "cell_type": "code",
      "execution_count": 3,
      "metadata": {
        "colab": {
          "base_uri": "https://localhost:8080/",
          "height": 35
        },
        "id": "XlZQWznYUa2h",
        "outputId": "7fb5102f-7c91-49c6-d309-1232c5401ccf"
      },
      "outputs": [
        {
          "data": {
            "application/vnd.google.colaboratory.intrinsic+json": {
              "type": "string"
            },
            "text/plain": [
              "'2.6.0+cu124'"
            ]
          },
          "execution_count": 3,
          "metadata": {},
          "output_type": "execute_result"
        }
      ],
      "source": [
        "import torch\n",
        "torch.__version__"
      ]
    },
    {
      "cell_type": "code",
      "execution_count": 4,
      "metadata": {
        "id": "HhlB9xwNTCbM"
      },
      "outputs": [],
      "source": [
        "import pyterrier_colbert\n",
        "import pyterrier as pt"
      ]
    },
    {
      "cell_type": "code",
      "execution_count": 5,
      "metadata": {
        "colab": {
          "base_uri": "https://localhost:8080/"
        },
        "id": "ljsuoMcQTuhO",
        "outputId": "737e9846-501c-44eb-fc36-d6558a5c96cd"
      },
      "outputs": [
        {
          "name": "stderr",
          "output_type": "stream",
          "text": [
            "Java started (triggered by createCollection) and loaded: pyterrier.java, pyterrier.terrier.java [version=5.11 (build: craig.macdonald 2025-01-13 21:29), helper_version=0.0.8]\n"
          ]
        },
        {
          "name": "stdout",
          "output_type": "stream",
          "text": [
            "ColBERTConfig(query_token_id='[unused0]', doc_token_id='[unused1]', query_token='[Q]', doc_token='[D]', ncells=None, centroid_score_threshold=None, ndocs=None, load_index_with_mmap=False, index_path=None, index_bsize=64, nbits=2, kmeans_niters=4, resume=False, pool_factor=1, clustering_mode='hierarchical', protected_tokens=0, similarity='cosine', bsize=32, accumsteps=1, lr=3e-06, maxsteps=500000, save_every=None, warmup=None, warmup_bert=None, relu=False, nway=2, use_ib_negatives=False, reranker=False, distillation_alpha=1.0, ignore_scores=False, model_name=None, query_maxlen=32, attend_to_mask_tokens=False, interaction='colbert', dim=128, doc_maxlen=220, mask_punctuation=True, checkpoint=None, triples=None, collection=None, queries=None, index_name=None, overwrite=False, root='/content/experiments', experiment='default', index_root=None, name='2025-07/25/17.48.57', rank=0, nranks=1, amp=True, gpus=1, avoid_fork_if_possible=False)\n",
            "\n",
            "\n",
            "[Jul 25, 17:49:20] #> Note: Output directory ./vaswani_index/2bits/indexes/2bits already exists\n",
            "\n",
            "\n",
            "[Jul 25, 17:49:20] #> Will delete 10 files already at ./vaswani_index/2bits/indexes/2bits in 20 seconds...\n"
          ]
        },
        {
          "name": "stderr",
          "output_type": "stream",
          "text": [
            "/usr/local/lib/python3.11/dist-packages/huggingface_hub/utils/_auth.py:94: UserWarning: \n",
            "The secret `HF_TOKEN` does not exist in your Colab secrets.\n",
            "To authenticate with the Hugging Face Hub, create a token in your settings tab (https://huggingface.co/settings/tokens), set it as secret in your Google Colab and restart your session.\n",
            "You will be able to reuse this secret in all of your notebooks.\n",
            "Please note that authentication is recommended but still optional to access public models or datasets.\n",
            "  warnings.warn(\n"
          ]
        },
        {
          "name": "stdout",
          "output_type": "stream",
          "text": [
            "{\n",
            "    \"query_token_id\": \"[unused0]\",\n",
            "    \"doc_token_id\": \"[unused1]\",\n",
            "    \"query_token\": \"[Q]\",\n",
            "    \"doc_token\": \"[D]\",\n",
            "    \"ncells\": null,\n",
            "    \"centroid_score_threshold\": null,\n",
            "    \"ndocs\": null,\n",
            "    \"load_index_with_mmap\": false,\n",
            "    \"index_path\": null,\n",
            "    \"index_bsize\": 64,\n",
            "    \"nbits\": 2,\n",
            "    \"kmeans_niters\": 20,\n",
            "    \"resume\": false,\n",
            "    \"pool_factor\": 1,\n",
            "    \"clustering_mode\": \"hierarchical\",\n",
            "    \"protected_tokens\": 0,\n",
            "    \"similarity\": \"cosine\",\n",
            "    \"bsize\": 64,\n",
            "    \"accumsteps\": 1,\n",
            "    \"lr\": 1e-5,\n",
            "    \"maxsteps\": 400000,\n",
            "    \"save_every\": null,\n",
            "    \"warmup\": 20000,\n",
            "    \"warmup_bert\": null,\n",
            "    \"relu\": false,\n",
            "    \"nway\": 64,\n",
            "    \"use_ib_negatives\": true,\n",
            "    \"reranker\": false,\n",
            "    \"distillation_alpha\": 1.0,\n",
            "    \"ignore_scores\": false,\n",
            "    \"model_name\": null,\n",
            "    \"query_maxlen\": 32,\n",
            "    \"attend_to_mask_tokens\": false,\n",
            "    \"interaction\": \"colbert\",\n",
            "    \"dim\": 128,\n",
            "    \"doc_maxlen\": 180,\n",
            "    \"mask_punctuation\": true,\n",
            "    \"checkpoint\": \"colbert-ir\\/colbertv2.0\",\n",
            "    \"triples\": \"\\/future\\/u\\/okhattab\\/root\\/unit\\/experiments\\/2021.10\\/downstream.distillation.round2.2_score\\/round2.nway6.cosine.ib\\/examples.64.json\",\n",
            "    \"collection\": [\n",
            "        \"list with 1000 elements starting with...\",\n",
            "        [\n",
            "            \"0\\tcompact memories have flexible capacities  a digital data storage\\nsystem with capacity up to bits and random and or sequential access\\nis described\",\n",
            "            \"1\\tan electronic analogue computer for solving systems of linear equations\\nmathematical derivation of the operating principle and stability\\nconditions for a computer consisting of amplifiers\",\n",
            "            \"2\\telectronic coordinate transformer  circuit details are given for\\nthe construction of an electronic calculating unit which enables\\nthe polar coordinates of a vector modulus and cosine or sine of the\\nargument to be derived from those of a rectangular system of axes\"\n",
            "        ]\n",
            "    ],\n",
            "    \"queries\": \"\\/future\\/u\\/okhattab\\/data\\/MSMARCO\\/queries.train.tsv\",\n",
            "    \"index_name\": \"2bits\",\n",
            "    \"overwrite\": false,\n",
            "    \"root\": \".\\/vaswani_index\",\n",
            "    \"experiment\": \"2bits\",\n",
            "    \"index_root\": null,\n",
            "    \"name\": \"2025-07\\/25\\/17.48.57\",\n",
            "    \"rank\": 0,\n",
            "    \"nranks\": 1,\n",
            "    \"amp\": true,\n",
            "    \"gpus\": 1,\n",
            "    \"avoid_fork_if_possible\": true\n",
            "}\n",
            "[Jul 25, 17:49:42] [0] \t\t # of sampled PIDs = 1000 \t sampled_pids[:3] = [426, 750, 10]\n",
            "[Jul 25, 17:49:42] [0] \t\t #> Encoding 1000 passages..\n"
          ]
        },
        {
          "name": "stderr",
          "output_type": "stream",
          "text": [
            "/usr/local/lib/python3.11/dist-packages/colbert/utils/amp.py:12: FutureWarning: `torch.cuda.amp.GradScaler(args...)` is deprecated. Please use `torch.amp.GradScaler('cuda', args...)` instead.\n",
            "  self.scaler = torch.cuda.amp.GradScaler()\n",
            "/usr/local/lib/python3.11/dist-packages/colbert/utils/amp.py:15: FutureWarning: `torch.cuda.amp.autocast(args...)` is deprecated. Please use `torch.amp.autocast('cuda', args...)` instead.\n",
            "  return torch.cuda.amp.autocast() if self.activated else NullContextManager()\n"
          ]
        },
        {
          "name": "stdout",
          "output_type": "stream",
          "text": [
            "[Jul 25, 17:49:44] [0] \t\t avg_doclen_est = 44.67100143432617 \t len(local_sample) = 1,000\n",
            "[Jul 25, 17:49:44] [0] \t\t Creating 2,048 partitions.\n",
            "[Jul 25, 17:49:44] [0] \t\t *Estimated* 44,671 embeddings.\n",
            "[Jul 25, 17:49:44] [0] \t\t #> Saving the indexing plan to ./vaswani_index/2bits/indexes/2bits/plan.json ..\n",
            "[Jul 25, 17:49:53] Loading decompress_residuals_cpp extension (set COLBERT_LOAD_TORCH_EXTENSION_VERBOSE=True for more info)...\n"
          ]
        },
        {
          "name": "stderr",
          "output_type": "stream",
          "text": [
            "/usr/local/lib/python3.11/dist-packages/torch/utils/cpp_extension.py:2059: UserWarning: TORCH_CUDA_ARCH_LIST is not set, all archs for visible cards are included for compilation. \n",
            "If this is not desired, please set os.environ['TORCH_CUDA_ARCH_LIST'].\n",
            "  warnings.warn(\n"
          ]
        },
        {
          "name": "stdout",
          "output_type": "stream",
          "text": [
            "[Jul 25, 17:49:53] Loading packbits_cpp extension (set COLBERT_LOAD_TORCH_EXTENSION_VERBOSE=True for more info)...\n"
          ]
        },
        {
          "name": "stderr",
          "output_type": "stream",
          "text": [
            "/usr/local/lib/python3.11/dist-packages/torch/utils/cpp_extension.py:2059: UserWarning: TORCH_CUDA_ARCH_LIST is not set, all archs for visible cards are included for compilation. \n",
            "If this is not desired, please set os.environ['TORCH_CUDA_ARCH_LIST'].\n",
            "  warnings.warn(\n"
          ]
        },
        {
          "name": "stdout",
          "output_type": "stream",
          "text": [
            "[0.042, 0.04, 0.04, 0.036, 0.036, 0.039, 0.04, 0.037, 0.037, 0.036, 0.039, 0.037, 0.038, 0.04, 0.035, 0.04, 0.033, 0.038, 0.036, 0.039, 0.039, 0.039, 0.039, 0.041, 0.037, 0.038, 0.039, 0.038, 0.041, 0.04, 0.04, 0.039, 0.039, 0.04, 0.039, 0.036, 0.041, 0.038, 0.038, 0.043, 0.039, 0.038, 0.038, 0.04, 0.039, 0.035, 0.04, 0.04, 0.039, 0.037, 0.038, 0.041, 0.04, 0.038, 0.037, 0.038, 0.045, 0.038, 0.04, 0.037, 0.035, 0.039, 0.04, 0.04, 0.042, 0.038, 0.043, 0.038, 0.036, 0.036, 0.041, 0.038, 0.038, 0.04, 0.036, 0.04, 0.042, 0.039, 0.039, 0.041, 0.039, 0.038, 0.038, 0.041, 0.035, 0.039, 0.039, 0.036, 0.036, 0.039, 0.037, 0.041, 0.037, 0.04, 0.038, 0.04, 0.038, 0.04, 0.038, 0.038, 0.038, 0.04, 0.038, 0.036, 0.042, 0.036, 0.04, 0.036, 0.04, 0.037, 0.037, 0.041, 0.038, 0.036, 0.039, 0.038, 0.042, 0.04, 0.036, 0.04, 0.038, 0.038, 0.039, 0.042, 0.037, 0.042, 0.039, 0.036]\n",
            "[Jul 25, 17:49:53] #> Got bucket_cutoffs_quantiles = tensor([0.2500, 0.5000, 0.7500], device='cuda:0') and bucket_weights_quantiles = tensor([0.1250, 0.3750, 0.6250, 0.8750], device='cuda:0')\n",
            "[Jul 25, 17:49:53] #> Got bucket_cutoffs = tensor([-0.0304, -0.0004,  0.0298], device='cuda:0') and bucket_weights = tensor([-0.0544, -0.0143,  0.0135,  0.0536], device='cuda:0')\n",
            "[Jul 25, 17:49:53] avg_residual = 0.03863525390625\n"
          ]
        },
        {
          "name": "stderr",
          "output_type": "stream",
          "text": [
            "\r0it [00:00, ?it/s]"
          ]
        },
        {
          "name": "stdout",
          "output_type": "stream",
          "text": [
            "[Jul 25, 17:49:53] [0] \t\t #> Encoding 1000 passages..\n"
          ]
        },
        {
          "name": "stderr",
          "output_type": "stream",
          "text": [
            "/usr/local/lib/python3.11/dist-packages/colbert/utils/amp.py:15: FutureWarning: `torch.cuda.amp.autocast(args...)` is deprecated. Please use `torch.amp.autocast('cuda', args...)` instead.\n",
            "  return torch.cuda.amp.autocast() if self.activated else NullContextManager()\n"
          ]
        },
        {
          "name": "stdout",
          "output_type": "stream",
          "text": [
            "[Jul 25, 17:49:55] [0] \t\t #> Saving chunk 0: \t 1,000 passages and 44,671 embeddings. From #0 onward.\n"
          ]
        },
        {
          "name": "stderr",
          "output_type": "stream",
          "text": [
            "1it [00:02,  2.31s/it]"
          ]
        },
        {
          "name": "stdout",
          "output_type": "stream",
          "text": [
            "[Jul 25, 17:49:55] [0] \t\t #> Checking all files were saved...\n",
            "[Jul 25, 17:49:55] [0] \t\t Found all files!\n",
            "[Jul 25, 17:49:55] [0] \t\t #> Building IVF...\n",
            "[Jul 25, 17:49:55] [0] \t\t #> Loading codes...\n"
          ]
        },
        {
          "name": "stderr",
          "output_type": "stream",
          "text": [
            "\n",
            "100%|██████████| 1/1 [00:00<00:00, 852.50it/s]"
          ]
        },
        {
          "name": "stdout",
          "output_type": "stream",
          "text": [
            "[Jul 25, 17:49:55] [0] \t\t Sorting codes...\n",
            "[Jul 25, 17:49:55] [0] \t\t Getting unique codes...\n",
            "[Jul 25, 17:49:55] #> Optimizing IVF to store map from centroids to list of pids..\n",
            "[Jul 25, 17:49:55] #> Building the emb2pid mapping..\n",
            "[Jul 25, 17:49:55] len(emb2pid) = 44671\n"
          ]
        },
        {
          "name": "stderr",
          "output_type": "stream",
          "text": [
            "\n",
            "100%|██████████| 2048/2048 [00:00<00:00, 56954.12it/s]"
          ]
        },
        {
          "name": "stdout",
          "output_type": "stream",
          "text": [
            "[Jul 25, 17:49:55] #> Saved optimized IVF to ./vaswani_index/2bits/indexes/2bits/ivf.pid.pt\n",
            "[Jul 25, 17:49:55] [0] \t\t #> Saving the indexing metadata to ./vaswani_index/2bits/indexes/2bits/metadata.json ..\n",
            "#> V2 Indexing complete, Time elapsed 35.70 seconds\n",
            "#> V2 recording docnos\n",
            "#> done\n"
          ]
        },
        {
          "name": "stderr",
          "output_type": "stream",
          "text": [
            "\n",
            "/usr/local/lib/python3.11/dist-packages/colbert/utils/amp.py:12: FutureWarning: `torch.cuda.amp.GradScaler(args...)` is deprecated. Please use `torch.amp.GradScaler('cuda', args...)` instead.\n",
            "  self.scaler = torch.cuda.amp.GradScaler()\n"
          ]
        },
        {
          "name": "stdout",
          "output_type": "stream",
          "text": [
            "[Jul 25, 17:49:58] #> Loading codec...\n",
            "[Jul 25, 17:49:58] #> Loading IVF...\n",
            "[Jul 25, 17:49:58] #> Loading doclens...\n"
          ]
        },
        {
          "name": "stderr",
          "output_type": "stream",
          "text": [
            "100%|██████████| 1/1 [00:00<00:00, 1702.23it/s]"
          ]
        },
        {
          "name": "stdout",
          "output_type": "stream",
          "text": [
            "[Jul 25, 17:49:58] #> Loading codes and residuals...\n"
          ]
        },
        {
          "name": "stderr",
          "output_type": "stream",
          "text": [
            "\n",
            "100%|██████████| 1/1 [00:00<00:00, 437.04it/s]\n"
          ]
        },
        {
          "data": {
            "text/plain": [
              "<pyterrier_colbert.ranking._index.ColBERTv2Index at 0x7e4875b47fd0>"
            ]
          },
          "execution_count": 5,
          "metadata": {},
          "output_type": "execute_result"
        }
      ],
      "source": [
        "import pyterrier_colbert.indexing\n",
        "indexr = pyterrier_colbert.indexing.ColbertV2Indexer(\"./vaswani_index\", checkpoint=\"colbert-ir/colbertv2.0\", index_name=\"2bits\")\n",
        "\n",
        "docs = list(pt.get_dataset(\"vaswani\").get_corpus_iter())[0:1000]\n",
        "\n",
        "indexr.index(docs)\n",
        "#indexr.index(pt.get_dataset(\"vaswani\").get_corpus_iter())"
      ]
    },
    {
      "cell_type": "code",
      "execution_count": 6,
      "metadata": {
        "colab": {
          "base_uri": "https://localhost:8080/"
        },
        "id": "JQQLbL5rTyYK",
        "outputId": "ab8d3970-c56d-4efe-b2fd-bfd96aa5f04e"
      },
      "outputs": [
        {
          "name": "stdout",
          "output_type": "stream",
          "text": [
            "[Jul 25, 17:50:01] #> Loading codec...\n",
            "[Jul 25, 17:50:01] #> Loading IVF...\n",
            "[Jul 25, 17:50:01] #> Loading doclens...\n"
          ]
        },
        {
          "name": "stderr",
          "output_type": "stream",
          "text": [
            "100%|██████████| 1/1 [00:00<00:00, 3075.00it/s]"
          ]
        },
        {
          "name": "stdout",
          "output_type": "stream",
          "text": [
            "[Jul 25, 17:50:01] #> Loading codes and residuals...\n"
          ]
        },
        {
          "name": "stderr",
          "output_type": "stream",
          "text": [
            "\n",
            "100%|██████████| 1/1 [00:00<00:00, 478.69it/s]\n"
          ]
        }
      ],
      "source": [
        "import pyterrier_colbert.ranking\n",
        "index = pyterrier_colbert.ranking.ColBERTv2Index(\"colbert-ir/colbertv2.0\", \"/content/vaswani_index/2bits/indexes/2bits\")"
      ]
    },
    {
      "cell_type": "code",
      "execution_count": 7,
      "metadata": {
        "colab": {
          "base_uri": "https://localhost:8080/",
          "height": 640
        },
        "id": "6nXhq2fgX18J",
        "outputId": "ac3598f2-864f-4cea-e768-d2c8f29677ec"
      },
      "outputs": [
        {
          "name": "stdout",
          "output_type": "stream",
          "text": [
            "\n",
            "#> QueryTokenizer.tensorize(batch_text[0], batch_background[0], bsize) ==\n",
            "#> Input: what are chemical reactions?, \t\t True, \t\t None\n",
            "#> Output IDs: torch.Size([32]), tensor([ 101,    1, 2054, 2024, 5072, 9597, 1029,  102,  103,  103,  103,  103,\n",
            "         103,  103,  103,  103,  103,  103,  103,  103,  103,  103,  103,  103,\n",
            "         103,  103,  103,  103,  103,  103,  103,  103], device='cuda:0')\n",
            "#> Output Mask: torch.Size([32]), tensor([1, 1, 1, 1, 1, 1, 1, 1, 0, 0, 0, 0, 0, 0, 0, 0, 0, 0, 0, 0, 0, 0, 0, 0,\n",
            "        0, 0, 0, 0, 0, 0, 0, 0], device='cuda:0')\n",
            "\n"
          ]
        },
        {
          "name": "stderr",
          "output_type": "stream",
          "text": [
            "/usr/local/lib/python3.11/dist-packages/colbert/utils/amp.py:15: FutureWarning: `torch.cuda.amp.autocast(args...)` is deprecated. Please use `torch.amp.autocast('cuda', args...)` instead.\n",
            "  return torch.cuda.amp.autocast() if self.activated else NullContextManager()\n"
          ]
        },
        {
          "data": {
            "application/vnd.google.colaboratory.intrinsic+json": {
              "summary": "{\n  \"name\": \"index\",\n  \"rows\": 209,\n  \"fields\": [\n    {\n      \"column\": \"qid\",\n      \"properties\": {\n        \"dtype\": \"category\",\n        \"num_unique_values\": 1,\n        \"samples\": [\n          \"1\"\n        ],\n        \"semantic_type\": \"\",\n        \"description\": \"\"\n      }\n    },\n    {\n      \"column\": \"query\",\n      \"properties\": {\n        \"dtype\": \"category\",\n        \"num_unique_values\": 1,\n        \"samples\": [\n          \"what are chemical reactions?\"\n        ],\n        \"semantic_type\": \"\",\n        \"description\": \"\"\n      }\n    },\n    {\n      \"column\": \"docno\",\n      \"properties\": {\n        \"dtype\": \"string\",\n        \"num_unique_values\": 209,\n        \"samples\": [\n          \"2\"\n        ],\n        \"semantic_type\": \"\",\n        \"description\": \"\"\n      }\n    },\n    {\n      \"column\": \"score\",\n      \"properties\": {\n        \"dtype\": \"number\",\n        \"std\": 1.685721733555174,\n        \"min\": 1.478515625,\n        \"max\": 11.375,\n        \"num_unique_values\": 199,\n        \"samples\": [\n          4.703125\n        ],\n        \"semantic_type\": \"\",\n        \"description\": \"\"\n      }\n    },\n    {\n      \"column\": \"rank\",\n      \"properties\": {\n        \"dtype\": \"number\",\n        \"std\": 60,\n        \"min\": 1,\n        \"max\": 209,\n        \"num_unique_values\": 209,\n        \"samples\": [\n          31\n        ],\n        \"semantic_type\": \"\",\n        \"description\": \"\"\n      }\n    }\n  ]\n}",
              "type": "dataframe"
            },
            "text/html": [
              "\n",
              "  <div id=\"df-6550a8cc-03ca-4b7c-a03e-5439f3c05dcd\" class=\"colab-df-container\">\n",
              "    <div>\n",
              "<style scoped>\n",
              "    .dataframe tbody tr th:only-of-type {\n",
              "        vertical-align: middle;\n",
              "    }\n",
              "\n",
              "    .dataframe tbody tr th {\n",
              "        vertical-align: top;\n",
              "    }\n",
              "\n",
              "    .dataframe thead th {\n",
              "        text-align: right;\n",
              "    }\n",
              "</style>\n",
              "<table border=\"1\" class=\"dataframe\">\n",
              "  <thead>\n",
              "    <tr style=\"text-align: right;\">\n",
              "      <th></th>\n",
              "      <th>qid</th>\n",
              "      <th>query</th>\n",
              "      <th>docno</th>\n",
              "      <th>score</th>\n",
              "      <th>rank</th>\n",
              "    </tr>\n",
              "  </thead>\n",
              "  <tbody>\n",
              "    <tr>\n",
              "      <th>0</th>\n",
              "      <td>1</td>\n",
              "      <td>what are chemical reactions?</td>\n",
              "      <td>27</td>\n",
              "      <td>11.375000</td>\n",
              "      <td>1</td>\n",
              "    </tr>\n",
              "    <tr>\n",
              "      <th>1</th>\n",
              "      <td>1</td>\n",
              "      <td>what are chemical reactions?</td>\n",
              "      <td>319</td>\n",
              "      <td>10.640625</td>\n",
              "      <td>2</td>\n",
              "    </tr>\n",
              "    <tr>\n",
              "      <th>2</th>\n",
              "      <td>1</td>\n",
              "      <td>what are chemical reactions?</td>\n",
              "      <td>443</td>\n",
              "      <td>10.125000</td>\n",
              "      <td>3</td>\n",
              "    </tr>\n",
              "    <tr>\n",
              "      <th>3</th>\n",
              "      <td>1</td>\n",
              "      <td>what are chemical reactions?</td>\n",
              "      <td>683</td>\n",
              "      <td>9.734375</td>\n",
              "      <td>4</td>\n",
              "    </tr>\n",
              "    <tr>\n",
              "      <th>4</th>\n",
              "      <td>1</td>\n",
              "      <td>what are chemical reactions?</td>\n",
              "      <td>938</td>\n",
              "      <td>9.671875</td>\n",
              "      <td>5</td>\n",
              "    </tr>\n",
              "    <tr>\n",
              "      <th>...</th>\n",
              "      <td>...</td>\n",
              "      <td>...</td>\n",
              "      <td>...</td>\n",
              "      <td>...</td>\n",
              "      <td>...</td>\n",
              "    </tr>\n",
              "    <tr>\n",
              "      <th>204</th>\n",
              "      <td>1</td>\n",
              "      <td>what are chemical reactions?</td>\n",
              "      <td>597</td>\n",
              "      <td>2.082031</td>\n",
              "      <td>205</td>\n",
              "    </tr>\n",
              "    <tr>\n",
              "      <th>205</th>\n",
              "      <td>1</td>\n",
              "      <td>what are chemical reactions?</td>\n",
              "      <td>964</td>\n",
              "      <td>1.872070</td>\n",
              "      <td>206</td>\n",
              "    </tr>\n",
              "    <tr>\n",
              "      <th>206</th>\n",
              "      <td>1</td>\n",
              "      <td>what are chemical reactions?</td>\n",
              "      <td>811</td>\n",
              "      <td>1.707031</td>\n",
              "      <td>207</td>\n",
              "    </tr>\n",
              "    <tr>\n",
              "      <th>207</th>\n",
              "      <td>1</td>\n",
              "      <td>what are chemical reactions?</td>\n",
              "      <td>26</td>\n",
              "      <td>1.529297</td>\n",
              "      <td>208</td>\n",
              "    </tr>\n",
              "    <tr>\n",
              "      <th>208</th>\n",
              "      <td>1</td>\n",
              "      <td>what are chemical reactions?</td>\n",
              "      <td>620</td>\n",
              "      <td>1.478516</td>\n",
              "      <td>209</td>\n",
              "    </tr>\n",
              "  </tbody>\n",
              "</table>\n",
              "<p>209 rows × 5 columns</p>\n",
              "</div>\n",
              "    <div class=\"colab-df-buttons\">\n",
              "\n",
              "  <div class=\"colab-df-container\">\n",
              "    <button class=\"colab-df-convert\" onclick=\"convertToInteractive('df-6550a8cc-03ca-4b7c-a03e-5439f3c05dcd')\"\n",
              "            title=\"Convert this dataframe to an interactive table.\"\n",
              "            style=\"display:none;\">\n",
              "\n",
              "  <svg xmlns=\"http://www.w3.org/2000/svg\" height=\"24px\" viewBox=\"0 -960 960 960\">\n",
              "    <path d=\"M120-120v-720h720v720H120Zm60-500h600v-160H180v160Zm220 220h160v-160H400v160Zm0 220h160v-160H400v160ZM180-400h160v-160H180v160Zm440 0h160v-160H620v160ZM180-180h160v-160H180v160Zm440 0h160v-160H620v160Z\"/>\n",
              "  </svg>\n",
              "    </button>\n",
              "\n",
              "  <style>\n",
              "    .colab-df-container {\n",
              "      display:flex;\n",
              "      gap: 12px;\n",
              "    }\n",
              "\n",
              "    .colab-df-convert {\n",
              "      background-color: #E8F0FE;\n",
              "      border: none;\n",
              "      border-radius: 50%;\n",
              "      cursor: pointer;\n",
              "      display: none;\n",
              "      fill: #1967D2;\n",
              "      height: 32px;\n",
              "      padding: 0 0 0 0;\n",
              "      width: 32px;\n",
              "    }\n",
              "\n",
              "    .colab-df-convert:hover {\n",
              "      background-color: #E2EBFA;\n",
              "      box-shadow: 0px 1px 2px rgba(60, 64, 67, 0.3), 0px 1px 3px 1px rgba(60, 64, 67, 0.15);\n",
              "      fill: #174EA6;\n",
              "    }\n",
              "\n",
              "    .colab-df-buttons div {\n",
              "      margin-bottom: 4px;\n",
              "    }\n",
              "\n",
              "    [theme=dark] .colab-df-convert {\n",
              "      background-color: #3B4455;\n",
              "      fill: #D2E3FC;\n",
              "    }\n",
              "\n",
              "    [theme=dark] .colab-df-convert:hover {\n",
              "      background-color: #434B5C;\n",
              "      box-shadow: 0px 1px 3px 1px rgba(0, 0, 0, 0.15);\n",
              "      filter: drop-shadow(0px 1px 2px rgba(0, 0, 0, 0.3));\n",
              "      fill: #FFFFFF;\n",
              "    }\n",
              "  </style>\n",
              "\n",
              "    <script>\n",
              "      const buttonEl =\n",
              "        document.querySelector('#df-6550a8cc-03ca-4b7c-a03e-5439f3c05dcd button.colab-df-convert');\n",
              "      buttonEl.style.display =\n",
              "        google.colab.kernel.accessAllowed ? 'block' : 'none';\n",
              "\n",
              "      async function convertToInteractive(key) {\n",
              "        const element = document.querySelector('#df-6550a8cc-03ca-4b7c-a03e-5439f3c05dcd');\n",
              "        const dataTable =\n",
              "          await google.colab.kernel.invokeFunction('convertToInteractive',\n",
              "                                                    [key], {});\n",
              "        if (!dataTable) return;\n",
              "\n",
              "        const docLinkHtml = 'Like what you see? Visit the ' +\n",
              "          '<a target=\"_blank\" href=https://colab.research.google.com/notebooks/data_table.ipynb>data table notebook</a>'\n",
              "          + ' to learn more about interactive tables.';\n",
              "        element.innerHTML = '';\n",
              "        dataTable['output_type'] = 'display_data';\n",
              "        await google.colab.output.renderOutput(dataTable, element);\n",
              "        const docLink = document.createElement('div');\n",
              "        docLink.innerHTML = docLinkHtml;\n",
              "        element.appendChild(docLink);\n",
              "      }\n",
              "    </script>\n",
              "  </div>\n",
              "\n",
              "\n",
              "    <div id=\"df-4cd96f3f-97e0-44f4-8b9d-c4017b96abea\">\n",
              "      <button class=\"colab-df-quickchart\" onclick=\"quickchart('df-4cd96f3f-97e0-44f4-8b9d-c4017b96abea')\"\n",
              "                title=\"Suggest charts\"\n",
              "                style=\"display:none;\">\n",
              "\n",
              "<svg xmlns=\"http://www.w3.org/2000/svg\" height=\"24px\"viewBox=\"0 0 24 24\"\n",
              "     width=\"24px\">\n",
              "    <g>\n",
              "        <path d=\"M19 3H5c-1.1 0-2 .9-2 2v14c0 1.1.9 2 2 2h14c1.1 0 2-.9 2-2V5c0-1.1-.9-2-2-2zM9 17H7v-7h2v7zm4 0h-2V7h2v10zm4 0h-2v-4h2v4z\"/>\n",
              "    </g>\n",
              "</svg>\n",
              "      </button>\n",
              "\n",
              "<style>\n",
              "  .colab-df-quickchart {\n",
              "      --bg-color: #E8F0FE;\n",
              "      --fill-color: #1967D2;\n",
              "      --hover-bg-color: #E2EBFA;\n",
              "      --hover-fill-color: #174EA6;\n",
              "      --disabled-fill-color: #AAA;\n",
              "      --disabled-bg-color: #DDD;\n",
              "  }\n",
              "\n",
              "  [theme=dark] .colab-df-quickchart {\n",
              "      --bg-color: #3B4455;\n",
              "      --fill-color: #D2E3FC;\n",
              "      --hover-bg-color: #434B5C;\n",
              "      --hover-fill-color: #FFFFFF;\n",
              "      --disabled-bg-color: #3B4455;\n",
              "      --disabled-fill-color: #666;\n",
              "  }\n",
              "\n",
              "  .colab-df-quickchart {\n",
              "    background-color: var(--bg-color);\n",
              "    border: none;\n",
              "    border-radius: 50%;\n",
              "    cursor: pointer;\n",
              "    display: none;\n",
              "    fill: var(--fill-color);\n",
              "    height: 32px;\n",
              "    padding: 0;\n",
              "    width: 32px;\n",
              "  }\n",
              "\n",
              "  .colab-df-quickchart:hover {\n",
              "    background-color: var(--hover-bg-color);\n",
              "    box-shadow: 0 1px 2px rgba(60, 64, 67, 0.3), 0 1px 3px 1px rgba(60, 64, 67, 0.15);\n",
              "    fill: var(--button-hover-fill-color);\n",
              "  }\n",
              "\n",
              "  .colab-df-quickchart-complete:disabled,\n",
              "  .colab-df-quickchart-complete:disabled:hover {\n",
              "    background-color: var(--disabled-bg-color);\n",
              "    fill: var(--disabled-fill-color);\n",
              "    box-shadow: none;\n",
              "  }\n",
              "\n",
              "  .colab-df-spinner {\n",
              "    border: 2px solid var(--fill-color);\n",
              "    border-color: transparent;\n",
              "    border-bottom-color: var(--fill-color);\n",
              "    animation:\n",
              "      spin 1s steps(1) infinite;\n",
              "  }\n",
              "\n",
              "  @keyframes spin {\n",
              "    0% {\n",
              "      border-color: transparent;\n",
              "      border-bottom-color: var(--fill-color);\n",
              "      border-left-color: var(--fill-color);\n",
              "    }\n",
              "    20% {\n",
              "      border-color: transparent;\n",
              "      border-left-color: var(--fill-color);\n",
              "      border-top-color: var(--fill-color);\n",
              "    }\n",
              "    30% {\n",
              "      border-color: transparent;\n",
              "      border-left-color: var(--fill-color);\n",
              "      border-top-color: var(--fill-color);\n",
              "      border-right-color: var(--fill-color);\n",
              "    }\n",
              "    40% {\n",
              "      border-color: transparent;\n",
              "      border-right-color: var(--fill-color);\n",
              "      border-top-color: var(--fill-color);\n",
              "    }\n",
              "    60% {\n",
              "      border-color: transparent;\n",
              "      border-right-color: var(--fill-color);\n",
              "    }\n",
              "    80% {\n",
              "      border-color: transparent;\n",
              "      border-right-color: var(--fill-color);\n",
              "      border-bottom-color: var(--fill-color);\n",
              "    }\n",
              "    90% {\n",
              "      border-color: transparent;\n",
              "      border-bottom-color: var(--fill-color);\n",
              "    }\n",
              "  }\n",
              "</style>\n",
              "\n",
              "      <script>\n",
              "        async function quickchart(key) {\n",
              "          const quickchartButtonEl =\n",
              "            document.querySelector('#' + key + ' button');\n",
              "          quickchartButtonEl.disabled = true;  // To prevent multiple clicks.\n",
              "          quickchartButtonEl.classList.add('colab-df-spinner');\n",
              "          try {\n",
              "            const charts = await google.colab.kernel.invokeFunction(\n",
              "                'suggestCharts', [key], {});\n",
              "          } catch (error) {\n",
              "            console.error('Error during call to suggestCharts:', error);\n",
              "          }\n",
              "          quickchartButtonEl.classList.remove('colab-df-spinner');\n",
              "          quickchartButtonEl.classList.add('colab-df-quickchart-complete');\n",
              "        }\n",
              "        (() => {\n",
              "          let quickchartButtonEl =\n",
              "            document.querySelector('#df-4cd96f3f-97e0-44f4-8b9d-c4017b96abea button');\n",
              "          quickchartButtonEl.style.display =\n",
              "            google.colab.kernel.accessAllowed ? 'block' : 'none';\n",
              "        })();\n",
              "      </script>\n",
              "    </div>\n",
              "\n",
              "    </div>\n",
              "  </div>\n"
            ],
            "text/plain": [
              "    qid                         query docno      score  rank\n",
              "0     1  what are chemical reactions?    27  11.375000     1\n",
              "1     1  what are chemical reactions?   319  10.640625     2\n",
              "2     1  what are chemical reactions?   443  10.125000     3\n",
              "3     1  what are chemical reactions?   683   9.734375     4\n",
              "4     1  what are chemical reactions?   938   9.671875     5\n",
              "..   ..                           ...   ...        ...   ...\n",
              "204   1  what are chemical reactions?   597   2.082031   205\n",
              "205   1  what are chemical reactions?   964   1.872070   206\n",
              "206   1  what are chemical reactions?   811   1.707031   207\n",
              "207   1  what are chemical reactions?    26   1.529297   208\n",
              "208   1  what are chemical reactions?   620   1.478516   209\n",
              "\n",
              "[209 rows x 5 columns]"
            ]
          },
          "execution_count": 7,
          "metadata": {},
          "output_type": "execute_result"
        }
      ],
      "source": [
        "index.end_to_end().search(\"what are chemical reactions?\")"
      ]
    },
    {
      "cell_type": "code",
      "execution_count": 7,
      "metadata": {
        "id": "elXw5O0GsAVp"
      },
      "outputs": [],
      "source": []
    }
  ],
  "metadata": {
    "accelerator": "GPU",
    "colab": {
      "gpuType": "T4",
      "provenance": []
    },
    "kernelspec": {
      "display_name": "Python 3",
      "name": "python3"
    },
    "language_info": {
      "name": "python"
    }
  },
  "nbformat": 4,
  "nbformat_minor": 0
}
