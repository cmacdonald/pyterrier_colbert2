{
 "cells": [
  {
   "cell_type": "markdown",
   "id": "f1bc1ccd",
   "metadata": {},
   "source": [
    "# Overview\n",
    "In this notebook, we will conduct **reranking** experiment using the **msmarco_passage** dataset.  \n",
    "First initialize **Pyterrier**"
   ]
  },
  {
   "cell_type": "code",
   "execution_count": 1,
   "id": "65427d11-63e1-4562-816b-1dcb21d664fb",
   "metadata": {},
   "outputs": [
    {
     "name": "stderr",
     "output_type": "stream",
     "text": [
      "/home/djh/.local/lib/python3.10/site-packages/tqdm/auto.py:21: TqdmWarning: IProgress not found. Please update jupyter and ipywidgets. See https://ipywidgets.readthedocs.io/en/stable/user_install.html\n",
      "  from .autonotebook import tqdm as notebook_tqdm\n",
      "PyTerrier 0.10.1 has loaded Terrier 5.9 (built by craigm on 2024-05-02 17:40) and terrier-helper 0.0.8\n",
      "\n",
      "No etc/terrier.properties, using terrier.default.properties for bootstrap configuration.\n"
     ]
    }
   ],
   "source": [
    "import pyterrier as pt\n",
    "pt.init()\n"
   ]
  },
  {
   "cell_type": "markdown",
   "id": "317eb8d9",
   "metadata": {},
   "source": [
    "import **ColBERTModelOnlyFactory**"
   ]
  },
  {
   "cell_type": "code",
   "execution_count": 2,
   "id": "67c444cf-dee4-46e7-85e1-ea37f51578d3",
   "metadata": {},
   "outputs": [],
   "source": [
    "from pyterrier_colbert.ranking import ColBERTModelOnlyFactory"
   ]
  },
  {
   "cell_type": "markdown",
   "id": "a58fa217",
   "metadata": {},
   "source": [
    "colbert_model_path = Checkpoint we already have or have trained"
   ]
  },
  {
   "cell_type": "code",
   "execution_count": 3,
   "id": "59ddd6e6",
   "metadata": {},
   "outputs": [],
   "source": [
    "colbert_model_path = '/mnt/c/Users/DJH/Desktop/code/colbertv2.0'"
   ]
  },
  {
   "cell_type": "markdown",
   "id": "72fadf56",
   "metadata": {},
   "source": [
    "ColBERTModelOnlyFactory(colbert_model_path, gpu = [True, False])"
   ]
  },
  {
   "cell_type": "code",
   "execution_count": 4,
   "id": "d607650e-c5dd-4ab1-9eb3-79d7ace4cfca",
   "metadata": {},
   "outputs": [],
   "source": [
    "factory_v2 = ColBERTModelOnlyFactory(colbert_model_path, gpu=True)"
   ]
  },
  {
   "cell_type": "markdown",
   "id": "b58eef6e",
   "metadata": {},
   "source": [
    "load **msmarco_passage** dataset and **topics** using **Pyterrier**"
   ]
  },
  {
   "cell_type": "code",
   "execution_count": 5,
   "id": "2737d8b4",
   "metadata": {},
   "outputs": [],
   "source": [
    "br = pt.BatchRetrieve.from_dataset('msmarco_passage', 'terrier_stemmed_text', num_results=100, metadata=['docno', 'text'])"
   ]
  },
  {
   "cell_type": "code",
   "execution_count": 6,
   "id": "72d74bbf",
   "metadata": {},
   "outputs": [],
   "source": [
    "res_2020 = br(pt.get_dataset('msmarco_passage').get_topics('test-2020'))"
   ]
  },
  {
   "cell_type": "code",
   "execution_count": 7,
   "id": "05dd6a38",
   "metadata": {},
   "outputs": [
    {
     "data": {
      "text/html": [
       "<div>\n",
       "<style scoped>\n",
       "    .dataframe tbody tr th:only-of-type {\n",
       "        vertical-align: middle;\n",
       "    }\n",
       "\n",
       "    .dataframe tbody tr th {\n",
       "        vertical-align: top;\n",
       "    }\n",
       "\n",
       "    .dataframe thead th {\n",
       "        text-align: right;\n",
       "    }\n",
       "</style>\n",
       "<table border=\"1\" class=\"dataframe\">\n",
       "  <thead>\n",
       "    <tr style=\"text-align: right;\">\n",
       "      <th></th>\n",
       "      <th>qid</th>\n",
       "      <th>docid</th>\n",
       "      <th>docno</th>\n",
       "      <th>text</th>\n",
       "      <th>rank</th>\n",
       "      <th>score</th>\n",
       "      <th>query</th>\n",
       "    </tr>\n",
       "  </thead>\n",
       "  <tbody>\n",
       "    <tr>\n",
       "      <th>0</th>\n",
       "      <td>1030303</td>\n",
       "      <td>8726436</td>\n",
       "      <td>8726436</td>\n",
       "      <td>Share on LinkedInShare on FacebookShare on Twi...</td>\n",
       "      <td>0</td>\n",
       "      <td>23.228384</td>\n",
       "      <td>who is aziz hashim</td>\n",
       "    </tr>\n",
       "    <tr>\n",
       "      <th>1</th>\n",
       "      <td>1030303</td>\n",
       "      <td>8726429</td>\n",
       "      <td>8726429</td>\n",
       "      <td>The crew at NRD Holdings, left to right: Karim...</td>\n",
       "      <td>1</td>\n",
       "      <td>18.600225</td>\n",
       "      <td>who is aziz hashim</td>\n",
       "    </tr>\n",
       "    <tr>\n",
       "      <th>2</th>\n",
       "      <td>1030303</td>\n",
       "      <td>8726435</td>\n",
       "      <td>8726435</td>\n",
       "      <td>Mr. Aziz Hashim has been the President and Sec...</td>\n",
       "      <td>2</td>\n",
       "      <td>18.566148</td>\n",
       "      <td>who is aziz hashim</td>\n",
       "    </tr>\n",
       "    <tr>\n",
       "      <th>3</th>\n",
       "      <td>1030303</td>\n",
       "      <td>8726433</td>\n",
       "      <td>8726433</td>\n",
       "      <td>Romaniello calls Hashim a terrific leader at t...</td>\n",
       "      <td>3</td>\n",
       "      <td>18.257022</td>\n",
       "      <td>who is aziz hashim</td>\n",
       "    </tr>\n",
       "    <tr>\n",
       "      <th>4</th>\n",
       "      <td>1030303</td>\n",
       "      <td>8726437</td>\n",
       "      <td>8726437</td>\n",
       "      <td>Aziz Hashim is one of the worlds leading exper...</td>\n",
       "      <td>4</td>\n",
       "      <td>16.176181</td>\n",
       "      <td>who is aziz hashim</td>\n",
       "    </tr>\n",
       "    <tr>\n",
       "      <th>...</th>\n",
       "      <td>...</td>\n",
       "      <td>...</td>\n",
       "      <td>...</td>\n",
       "      <td>...</td>\n",
       "      <td>...</td>\n",
       "      <td>...</td>\n",
       "      <td>...</td>\n",
       "    </tr>\n",
       "    <tr>\n",
       "      <th>19611</th>\n",
       "      <td>132622</td>\n",
       "      <td>3946842</td>\n",
       "      <td>3946842</td>\n",
       "      <td>This Appendix lists the common &amp; chemical name...</td>\n",
       "      <td>95</td>\n",
       "      <td>9.350961</td>\n",
       "      <td>definition of attempted arson</td>\n",
       "    </tr>\n",
       "    <tr>\n",
       "      <th>19612</th>\n",
       "      <td>132622</td>\n",
       "      <td>3358939</td>\n",
       "      <td>3358939</td>\n",
       "      <td>Arson is prosecuted with the attention to degr...</td>\n",
       "      <td>96</td>\n",
       "      <td>9.315411</td>\n",
       "      <td>definition of attempted arson</td>\n",
       "    </tr>\n",
       "    <tr>\n",
       "      <th>19613</th>\n",
       "      <td>132622</td>\n",
       "      <td>5679342</td>\n",
       "      <td>5679342</td>\n",
       "      <td>The tool you used to root may allow you to unr...</td>\n",
       "      <td>97</td>\n",
       "      <td>9.290289</td>\n",
       "      <td>definition of attempted arson</td>\n",
       "    </tr>\n",
       "    <tr>\n",
       "      <th>19614</th>\n",
       "      <td>132622</td>\n",
       "      <td>6877872</td>\n",
       "      <td>6877872</td>\n",
       "      <td>The dosage would be 100 mg twice a day for 7 d...</td>\n",
       "      <td>98</td>\n",
       "      <td>9.290289</td>\n",
       "      <td>definition of attempted arson</td>\n",
       "    </tr>\n",
       "    <tr>\n",
       "      <th>19615</th>\n",
       "      <td>132622</td>\n",
       "      <td>4666575</td>\n",
       "      <td>4666575</td>\n",
       "      <td>Arson statutes typically classify arson as a f...</td>\n",
       "      <td>99</td>\n",
       "      <td>9.288476</td>\n",
       "      <td>definition of attempted arson</td>\n",
       "    </tr>\n",
       "  </tbody>\n",
       "</table>\n",
       "<p>19616 rows × 7 columns</p>\n",
       "</div>"
      ],
      "text/plain": [
       "           qid    docid    docno  \\\n",
       "0      1030303  8726436  8726436   \n",
       "1      1030303  8726429  8726429   \n",
       "2      1030303  8726435  8726435   \n",
       "3      1030303  8726433  8726433   \n",
       "4      1030303  8726437  8726437   \n",
       "...        ...      ...      ...   \n",
       "19611   132622  3946842  3946842   \n",
       "19612   132622  3358939  3358939   \n",
       "19613   132622  5679342  5679342   \n",
       "19614   132622  6877872  6877872   \n",
       "19615   132622  4666575  4666575   \n",
       "\n",
       "                                                    text  rank      score  \\\n",
       "0      Share on LinkedInShare on FacebookShare on Twi...     0  23.228384   \n",
       "1      The crew at NRD Holdings, left to right: Karim...     1  18.600225   \n",
       "2      Mr. Aziz Hashim has been the President and Sec...     2  18.566148   \n",
       "3      Romaniello calls Hashim a terrific leader at t...     3  18.257022   \n",
       "4      Aziz Hashim is one of the worlds leading exper...     4  16.176181   \n",
       "...                                                  ...   ...        ...   \n",
       "19611  This Appendix lists the common & chemical name...    95   9.350961   \n",
       "19612  Arson is prosecuted with the attention to degr...    96   9.315411   \n",
       "19613  The tool you used to root may allow you to unr...    97   9.290289   \n",
       "19614  The dosage would be 100 mg twice a day for 7 d...    98   9.290289   \n",
       "19615  Arson statutes typically classify arson as a f...    99   9.288476   \n",
       "\n",
       "                               query  \n",
       "0                 who is aziz hashim  \n",
       "1                 who is aziz hashim  \n",
       "2                 who is aziz hashim  \n",
       "3                 who is aziz hashim  \n",
       "4                 who is aziz hashim  \n",
       "...                              ...  \n",
       "19611  definition of attempted arson  \n",
       "19612  definition of attempted arson  \n",
       "19613  definition of attempted arson  \n",
       "19614  definition of attempted arson  \n",
       "19615  definition of attempted arson  \n",
       "\n",
       "[19616 rows x 7 columns]"
      ]
     },
     "execution_count": 7,
     "metadata": {},
     "output_type": "execute_result"
    }
   ],
   "source": [
    "res_2020"
   ]
  },
  {
   "cell_type": "markdown",
   "id": "05aa7fc7",
   "metadata": {},
   "source": [
    "**Reranking**  \n",
    ".text_scorer(**Do not** fill in the parameters to use ColBERT V2's new score algorithm )(the preprocessed dataset)"
   ]
  },
  {
   "cell_type": "code",
   "execution_count": 15,
   "id": "8c382440-8d2e-46de-b040-96aaa03eb5b9",
   "metadata": {},
   "outputs": [
    {
     "name": "stdout",
     "output_type": "stream",
     "text": [
      "V2 reranking time: 60.05 seconds\n"
     ]
    }
   ],
   "source": [
    "import time\n",
    "\n",
    "start_time = time.time()\n",
    "\n",
    "re_ranked_2020 = factory_v2.text_scorer()(res_2020)\n",
    "\n",
    "end_time = time.time()\n",
    "\n",
    "elapsed_time = end_time - start_time\n",
    "print(f\"V2 reranking time: {elapsed_time:.2f} seconds\")"
   ]
  },
  {
   "cell_type": "code",
   "execution_count": 10,
   "id": "58adfefc",
   "metadata": {},
   "outputs": [
    {
     "name": "stdout",
     "output_type": "stream",
     "text": [
      "           qid               query    docno      score  rank\n",
      "0      1030303  who is aziz hashim  8726437  29.203125     0\n",
      "1      1030303  who is aziz hashim  8726435  27.078125     1\n",
      "2      1030303  who is aziz hashim  7156982  25.968750     2\n",
      "3      1030303  who is aziz hashim  8726433  25.734375     3\n",
      "4      1030303  who is aziz hashim  8726430  24.875000     4\n",
      "...        ...                 ...      ...        ...   ...\n",
      "19611   999466    where is velbert  8748919  22.453125     5\n",
      "19612   999466    where is velbert  8748917  20.765625     6\n",
      "19613   999466    where is velbert  8748918  20.203125     7\n",
      "19614   999466    where is velbert  8748915  19.875000     8\n",
      "19615   999466    where is velbert  8748913  19.828125     9\n",
      "\n",
      "[19616 rows x 5 columns]\n"
     ]
    }
   ],
   "source": [
    "print(re_ranked_2020)"
   ]
  },
  {
   "cell_type": "markdown",
   "id": "d8bb3781",
   "metadata": {},
   "source": [
    "Evaluate the NDCG@10 metric **without** reranking"
   ]
  },
  {
   "cell_type": "code",
   "execution_count": 11,
   "id": "fc69975f-aef5-45e9-8944-dcdfd6615ba1",
   "metadata": {},
   "outputs": [
    {
     "data": {
      "text/plain": [
       "{'nDCG@10': 0.4505452139735618}"
      ]
     },
     "execution_count": 11,
     "metadata": {},
     "output_type": "execute_result"
    }
   ],
   "source": [
    "pt.Evaluate(res_2020, pt.get_dataset('msmarco_passage').get_qrels('test-2020'), [pt.measures.NDCG@10])"
   ]
  },
  {
   "cell_type": "markdown",
   "id": "e590f399",
   "metadata": {},
   "source": [
    "Evaluate the NDCG@10 metric **after** reranking"
   ]
  },
  {
   "cell_type": "code",
   "execution_count": 13,
   "id": "d73d3370-4f52-483a-bb52-6f1ef9c0ec91",
   "metadata": {},
   "outputs": [
    {
     "name": "stdout",
     "output_type": "stream",
     "text": [
      "After V2 reranking\n"
     ]
    },
    {
     "data": {
      "text/plain": [
       "{'nDCG@10': 0.6952931776901474}"
      ]
     },
     "execution_count": 13,
     "metadata": {},
     "output_type": "execute_result"
    }
   ],
   "source": [
    "print(f\"After V2 reranking\")\n",
    "pt.Evaluate(re_ranked_2020, pt.get_dataset('msmarco_passage').get_qrels('test-2020'), [pt.measures.NDCG@10])"
   ]
  }
 ],
 "metadata": {
  "kernelspec": {
   "display_name": "Python 3 (ipykernel)",
   "language": "python",
   "name": "python3"
  },
  "language_info": {
   "codemirror_mode": {
    "name": "ipython",
    "version": 3
   },
   "file_extension": ".py",
   "mimetype": "text/x-python",
   "name": "python",
   "nbconvert_exporter": "python",
   "pygments_lexer": "ipython3",
   "version": "3.10.14"
  }
 },
 "nbformat": 4,
 "nbformat_minor": 5
}
